{
  "cells": [
    {
      "cell_type": "code",
      "execution_count": 1,
      "metadata": {
        "id": "VopQgysPpX8e"
      },
      "outputs": [],
      "source": [
        "import numpy as np # linear algebra\n",
        "import pandas as pd # data processing, CSV file I/O (e.g. pd.read_csv)\n",
        "\n",
        "# Input data files are available in the read-only \"../input/\" directory\n",
        "# For example, running this (by clicking run or pressing Shift+Enter) will list all files under the input directory\n",
        "\n",
        "import os"
      ]
    },
    {
      "cell_type": "code",
      "execution_count": 2,
      "metadata": {
        "id": "Yxv2H_isvUBN",
        "colab": {
          "base_uri": "https://localhost:8080/"
        },
        "outputId": "d5cc68c9-57d6-4a0c-84b2-1dec59c2c891"
      },
      "outputs": [
        {
          "output_type": "stream",
          "name": "stdout",
          "text": [
            "/content\n"
          ]
        }
      ],
      "source": [
        "print(os.getcwd())  # print current working directory"
      ]
    },
    {
      "cell_type": "code",
      "execution_count": 3,
      "metadata": {
        "id": "EXjacwa7zIjT",
        "colab": {
          "base_uri": "https://localhost:8080/"
        },
        "outputId": "ab3bbeea-5aa4-4942-b9a2-d7d2be7f8d85"
      },
      "outputs": [
        {
          "output_type": "stream",
          "name": "stdout",
          "text": [
            "Drive already mounted at /content/drive; to attempt to forcibly remount, call drive.mount(\"/content/drive\", force_remount=True).\n"
          ]
        }
      ],
      "source": [
        "from google.colab import drive\n",
        "drive.mount('/content/drive')"
      ]
    },
    {
      "cell_type": "code",
      "execution_count": 4,
      "metadata": {
        "id": "HSkhLwhctdFo"
      },
      "outputs": [],
      "source": [
        "#Data Path\n",
        "data_path = '/content/drive/MyDrive/AML-TASK1/'\n",
        "test = pd.read_csv(data_path+'my_goodreads_test.csv')\n",
        "train = pd.read_csv(data_path+'my_goodreads_train.csv')\n",
        "submission = pd.read_csv(data_path + 'my_goodreads_sample_submission.csv')"
      ]
    },
    {
      "cell_type": "code",
      "execution_count": 5,
      "metadata": {
        "id": "Kh9PMZ57tpqV",
        "colab": {
          "base_uri": "https://localhost:8080/",
          "height": 1000
        },
        "outputId": "389d9e15-fa85-405b-c44b-f0d8f8ae56f5"
      },
      "outputs": [
        {
          "output_type": "execute_result",
          "data": {
            "text/plain": [
              "                             user_id    book_id  \\\n",
              "0  1da3dcc13cf360b9ecb06251e86237535  182091851   \n",
              "1  1ae436441b6153473ef907aed1006a159    1451461   \n",
              "2  1aa5e9d859b0c0737f4b99a07edf19c88   13483572   \n",
              "3  1940c22aba67c3d49ccd37891c52c9f51  131585171   \n",
              "4  15e03534fccd0e7e1849d712ab9e44342  195643271   \n",
              "5  1b48efac31a7e138507bb2bd3b67699dd    1876765   \n",
              "6  16aa7dc30360af735246abd050c48d965     193148   \n",
              "7  1284ee7a064cbe87185ca819f9e304ab2  100833271   \n",
              "8  137751140e478526c14f54489ad8ac8f5  133218621   \n",
              "9  1f9d9357bf073e39809b643aba7775914  135917531   \n",
              "\n",
              "                           review_id  rating  \\\n",
              "0  1c949b5dedf860514ec8b97ad158c9f4f       5   \n",
              "1  112ee86a20d7e4308c0a054f8b03128cd       5   \n",
              "2  1253729b67f301b75a0f26e85f6d6fb31       5   \n",
              "3  1ae0005e94dce0dc5c18d6ae2b4a329ab       4   \n",
              "4  1d8357d2abdcc656635c5459c1feec761       3   \n",
              "5  1a1ef418b33c36bd5320f9b40168814f8       2   \n",
              "6  1867a74731666f64d1dd989bc40ea2d60       3   \n",
              "7  1e8560b7e97bbf63936113938b7ffc4ac       5   \n",
              "8  10800c6611613342cb1d0bc21f9bcef27       1   \n",
              "9  1d7e482b97d3636fe0b9b8bb3065abf50       3   \n",
              "\n",
              "                                         review_text  \\\n",
              "0  I thought this was a very good historical fant...   \n",
              "1  I've had this book recommended to me more than...   \n",
              "2  Seriously! You go and throw that twist into th...   \n",
              "3  Gosh!!! I'm still not recovering from the effi...   \n",
              "4  3.5 stars rounded down. I can't help it, I jus...   \n",
              "5  When I first read The Wasp Factory for a Scott...   \n",
              "6  Still an interesting series. Each story seems ...   \n",
              "7  This was such an unexpected read for me. I nev...   \n",
              "8  DNF at 49% \\n I don't quite know what I was ex...   \n",
              "9  I learned something new today. \\n It is possib...   \n",
              "\n",
              "                       date_added                    date_updated  \\\n",
              "0  Fri Feb 01 16:44:16 -0800 2013  Tue Oct 25 18:49:25 -0700 2016   \n",
              "1  Sun Nov 08 12:10:16 -0800 2015  Sun Nov 08 12:24:59 -0800 2015   \n",
              "2  Wed Oct 10 02:07:19 -0700 2012  Sat Apr 27 00:40:19 -0700 2013   \n",
              "3  Thu Dec 05 00:45:29 -0800 2013  Thu Dec 05 00:50:17 -0800 2013   \n",
              "4  Wed Mar 15 18:08:14 -0700 2017  Wed Jul 05 12:55:32 -0700 2017   \n",
              "5  Sun Sep 21 11:04:16 -0700 2014  Sun Sep 21 11:14:17 -0700 2014   \n",
              "6  Tue Jul 20 14:38:42 -0700 2010  Tue Sep 10 06:33:20 -0700 2013   \n",
              "7  Tue Sep 08 16:13:40 -0700 2015  Tue Sep 08 16:19:56 -0700 2015   \n",
              "8  Fri Jan 24 15:05:58 -0800 2014  Sat Mar 11 08:05:14 -0800 2017   \n",
              "9  Mon Apr 29 14:09:41 -0700 2013  Tue Jun 18 12:28:19 -0700 2013   \n",
              "\n",
              "                          read_at                      started_at  n_votes  \\\n",
              "0  Sat May 04 00:00:00 -0700 2013  Thu Apr 25 00:00:00 -0700 2013        5   \n",
              "1  Tue May 05 00:00:00 -0700 2015  Sun May 03 00:00:00 -0700 2015        0   \n",
              "2  Sat Apr 27 00:40:19 -0700 2013  Thu Apr 25 00:00:00 -0700 2013        0   \n",
              "3  Thu Dec 05 00:50:17 -0800 2013  Wed Dec 04 00:00:00 -0800 2013        5   \n",
              "4  Wed Apr 12 12:17:07 -0700 2017  Tue Apr 11 00:00:00 -0700 2017        0   \n",
              "5  Sun Sep 21 11:14:17 -0700 2014  Wed Sep 17 00:00:00 -0700 2014        0   \n",
              "6  Fri Mar 31 00:00:00 -0800 2006  Wed Mar 29 00:00:00 -0800 2006        0   \n",
              "7  Wed Sep 09 00:00:00 -0700 2015                             NaN        0   \n",
              "8  Fri May 06 00:00:00 -0700 2016  Thu May 05 00:00:00 -0700 2016        0   \n",
              "9  Tue Apr 30 00:00:00 -0700 2013                             NaN       45   \n",
              "\n",
              "   n_comments  \n",
              "0           6  \n",
              "1           0  \n",
              "2           0  \n",
              "3           0  \n",
              "4           0  \n",
              "5           0  \n",
              "6           0  \n",
              "7           0  \n",
              "8           0  \n",
              "9          15  "
            ],
            "text/html": [
              "\n",
              "  <div id=\"df-8e861110-a9d4-4ac4-a772-2756758f38c9\">\n",
              "    <div class=\"colab-df-container\">\n",
              "      <div>\n",
              "<style scoped>\n",
              "    .dataframe tbody tr th:only-of-type {\n",
              "        vertical-align: middle;\n",
              "    }\n",
              "\n",
              "    .dataframe tbody tr th {\n",
              "        vertical-align: top;\n",
              "    }\n",
              "\n",
              "    .dataframe thead th {\n",
              "        text-align: right;\n",
              "    }\n",
              "</style>\n",
              "<table border=\"1\" class=\"dataframe\">\n",
              "  <thead>\n",
              "    <tr style=\"text-align: right;\">\n",
              "      <th></th>\n",
              "      <th>user_id</th>\n",
              "      <th>book_id</th>\n",
              "      <th>review_id</th>\n",
              "      <th>rating</th>\n",
              "      <th>review_text</th>\n",
              "      <th>date_added</th>\n",
              "      <th>date_updated</th>\n",
              "      <th>read_at</th>\n",
              "      <th>started_at</th>\n",
              "      <th>n_votes</th>\n",
              "      <th>n_comments</th>\n",
              "    </tr>\n",
              "  </thead>\n",
              "  <tbody>\n",
              "    <tr>\n",
              "      <th>0</th>\n",
              "      <td>1da3dcc13cf360b9ecb06251e86237535</td>\n",
              "      <td>182091851</td>\n",
              "      <td>1c949b5dedf860514ec8b97ad158c9f4f</td>\n",
              "      <td>5</td>\n",
              "      <td>I thought this was a very good historical fant...</td>\n",
              "      <td>Fri Feb 01 16:44:16 -0800 2013</td>\n",
              "      <td>Tue Oct 25 18:49:25 -0700 2016</td>\n",
              "      <td>Sat May 04 00:00:00 -0700 2013</td>\n",
              "      <td>Thu Apr 25 00:00:00 -0700 2013</td>\n",
              "      <td>5</td>\n",
              "      <td>6</td>\n",
              "    </tr>\n",
              "    <tr>\n",
              "      <th>1</th>\n",
              "      <td>1ae436441b6153473ef907aed1006a159</td>\n",
              "      <td>1451461</td>\n",
              "      <td>112ee86a20d7e4308c0a054f8b03128cd</td>\n",
              "      <td>5</td>\n",
              "      <td>I've had this book recommended to me more than...</td>\n",
              "      <td>Sun Nov 08 12:10:16 -0800 2015</td>\n",
              "      <td>Sun Nov 08 12:24:59 -0800 2015</td>\n",
              "      <td>Tue May 05 00:00:00 -0700 2015</td>\n",
              "      <td>Sun May 03 00:00:00 -0700 2015</td>\n",
              "      <td>0</td>\n",
              "      <td>0</td>\n",
              "    </tr>\n",
              "    <tr>\n",
              "      <th>2</th>\n",
              "      <td>1aa5e9d859b0c0737f4b99a07edf19c88</td>\n",
              "      <td>13483572</td>\n",
              "      <td>1253729b67f301b75a0f26e85f6d6fb31</td>\n",
              "      <td>5</td>\n",
              "      <td>Seriously! You go and throw that twist into th...</td>\n",
              "      <td>Wed Oct 10 02:07:19 -0700 2012</td>\n",
              "      <td>Sat Apr 27 00:40:19 -0700 2013</td>\n",
              "      <td>Sat Apr 27 00:40:19 -0700 2013</td>\n",
              "      <td>Thu Apr 25 00:00:00 -0700 2013</td>\n",
              "      <td>0</td>\n",
              "      <td>0</td>\n",
              "    </tr>\n",
              "    <tr>\n",
              "      <th>3</th>\n",
              "      <td>1940c22aba67c3d49ccd37891c52c9f51</td>\n",
              "      <td>131585171</td>\n",
              "      <td>1ae0005e94dce0dc5c18d6ae2b4a329ab</td>\n",
              "      <td>4</td>\n",
              "      <td>Gosh!!! I'm still not recovering from the effi...</td>\n",
              "      <td>Thu Dec 05 00:45:29 -0800 2013</td>\n",
              "      <td>Thu Dec 05 00:50:17 -0800 2013</td>\n",
              "      <td>Thu Dec 05 00:50:17 -0800 2013</td>\n",
              "      <td>Wed Dec 04 00:00:00 -0800 2013</td>\n",
              "      <td>5</td>\n",
              "      <td>0</td>\n",
              "    </tr>\n",
              "    <tr>\n",
              "      <th>4</th>\n",
              "      <td>15e03534fccd0e7e1849d712ab9e44342</td>\n",
              "      <td>195643271</td>\n",
              "      <td>1d8357d2abdcc656635c5459c1feec761</td>\n",
              "      <td>3</td>\n",
              "      <td>3.5 stars rounded down. I can't help it, I jus...</td>\n",
              "      <td>Wed Mar 15 18:08:14 -0700 2017</td>\n",
              "      <td>Wed Jul 05 12:55:32 -0700 2017</td>\n",
              "      <td>Wed Apr 12 12:17:07 -0700 2017</td>\n",
              "      <td>Tue Apr 11 00:00:00 -0700 2017</td>\n",
              "      <td>0</td>\n",
              "      <td>0</td>\n",
              "    </tr>\n",
              "    <tr>\n",
              "      <th>5</th>\n",
              "      <td>1b48efac31a7e138507bb2bd3b67699dd</td>\n",
              "      <td>1876765</td>\n",
              "      <td>1a1ef418b33c36bd5320f9b40168814f8</td>\n",
              "      <td>2</td>\n",
              "      <td>When I first read The Wasp Factory for a Scott...</td>\n",
              "      <td>Sun Sep 21 11:04:16 -0700 2014</td>\n",
              "      <td>Sun Sep 21 11:14:17 -0700 2014</td>\n",
              "      <td>Sun Sep 21 11:14:17 -0700 2014</td>\n",
              "      <td>Wed Sep 17 00:00:00 -0700 2014</td>\n",
              "      <td>0</td>\n",
              "      <td>0</td>\n",
              "    </tr>\n",
              "    <tr>\n",
              "      <th>6</th>\n",
              "      <td>16aa7dc30360af735246abd050c48d965</td>\n",
              "      <td>193148</td>\n",
              "      <td>1867a74731666f64d1dd989bc40ea2d60</td>\n",
              "      <td>3</td>\n",
              "      <td>Still an interesting series. Each story seems ...</td>\n",
              "      <td>Tue Jul 20 14:38:42 -0700 2010</td>\n",
              "      <td>Tue Sep 10 06:33:20 -0700 2013</td>\n",
              "      <td>Fri Mar 31 00:00:00 -0800 2006</td>\n",
              "      <td>Wed Mar 29 00:00:00 -0800 2006</td>\n",
              "      <td>0</td>\n",
              "      <td>0</td>\n",
              "    </tr>\n",
              "    <tr>\n",
              "      <th>7</th>\n",
              "      <td>1284ee7a064cbe87185ca819f9e304ab2</td>\n",
              "      <td>100833271</td>\n",
              "      <td>1e8560b7e97bbf63936113938b7ffc4ac</td>\n",
              "      <td>5</td>\n",
              "      <td>This was such an unexpected read for me. I nev...</td>\n",
              "      <td>Tue Sep 08 16:13:40 -0700 2015</td>\n",
              "      <td>Tue Sep 08 16:19:56 -0700 2015</td>\n",
              "      <td>Wed Sep 09 00:00:00 -0700 2015</td>\n",
              "      <td>NaN</td>\n",
              "      <td>0</td>\n",
              "      <td>0</td>\n",
              "    </tr>\n",
              "    <tr>\n",
              "      <th>8</th>\n",
              "      <td>137751140e478526c14f54489ad8ac8f5</td>\n",
              "      <td>133218621</td>\n",
              "      <td>10800c6611613342cb1d0bc21f9bcef27</td>\n",
              "      <td>1</td>\n",
              "      <td>DNF at 49% \\n I don't quite know what I was ex...</td>\n",
              "      <td>Fri Jan 24 15:05:58 -0800 2014</td>\n",
              "      <td>Sat Mar 11 08:05:14 -0800 2017</td>\n",
              "      <td>Fri May 06 00:00:00 -0700 2016</td>\n",
              "      <td>Thu May 05 00:00:00 -0700 2016</td>\n",
              "      <td>0</td>\n",
              "      <td>0</td>\n",
              "    </tr>\n",
              "    <tr>\n",
              "      <th>9</th>\n",
              "      <td>1f9d9357bf073e39809b643aba7775914</td>\n",
              "      <td>135917531</td>\n",
              "      <td>1d7e482b97d3636fe0b9b8bb3065abf50</td>\n",
              "      <td>3</td>\n",
              "      <td>I learned something new today. \\n It is possib...</td>\n",
              "      <td>Mon Apr 29 14:09:41 -0700 2013</td>\n",
              "      <td>Tue Jun 18 12:28:19 -0700 2013</td>\n",
              "      <td>Tue Apr 30 00:00:00 -0700 2013</td>\n",
              "      <td>NaN</td>\n",
              "      <td>45</td>\n",
              "      <td>15</td>\n",
              "    </tr>\n",
              "  </tbody>\n",
              "</table>\n",
              "</div>\n",
              "      <button class=\"colab-df-convert\" onclick=\"convertToInteractive('df-8e861110-a9d4-4ac4-a772-2756758f38c9')\"\n",
              "              title=\"Convert this dataframe to an interactive table.\"\n",
              "              style=\"display:none;\">\n",
              "        \n",
              "  <svg xmlns=\"http://www.w3.org/2000/svg\" height=\"24px\"viewBox=\"0 0 24 24\"\n",
              "       width=\"24px\">\n",
              "    <path d=\"M0 0h24v24H0V0z\" fill=\"none\"/>\n",
              "    <path d=\"M18.56 5.44l.94 2.06.94-2.06 2.06-.94-2.06-.94-.94-2.06-.94 2.06-2.06.94zm-11 1L8.5 8.5l.94-2.06 2.06-.94-2.06-.94L8.5 2.5l-.94 2.06-2.06.94zm10 10l.94 2.06.94-2.06 2.06-.94-2.06-.94-.94-2.06-.94 2.06-2.06.94z\"/><path d=\"M17.41 7.96l-1.37-1.37c-.4-.4-.92-.59-1.43-.59-.52 0-1.04.2-1.43.59L10.3 9.45l-7.72 7.72c-.78.78-.78 2.05 0 2.83L4 21.41c.39.39.9.59 1.41.59.51 0 1.02-.2 1.41-.59l7.78-7.78 2.81-2.81c.8-.78.8-2.07 0-2.86zM5.41 20L4 18.59l7.72-7.72 1.47 1.35L5.41 20z\"/>\n",
              "  </svg>\n",
              "      </button>\n",
              "      \n",
              "  <style>\n",
              "    .colab-df-container {\n",
              "      display:flex;\n",
              "      flex-wrap:wrap;\n",
              "      gap: 12px;\n",
              "    }\n",
              "\n",
              "    .colab-df-convert {\n",
              "      background-color: #E8F0FE;\n",
              "      border: none;\n",
              "      border-radius: 50%;\n",
              "      cursor: pointer;\n",
              "      display: none;\n",
              "      fill: #1967D2;\n",
              "      height: 32px;\n",
              "      padding: 0 0 0 0;\n",
              "      width: 32px;\n",
              "    }\n",
              "\n",
              "    .colab-df-convert:hover {\n",
              "      background-color: #E2EBFA;\n",
              "      box-shadow: 0px 1px 2px rgba(60, 64, 67, 0.3), 0px 1px 3px 1px rgba(60, 64, 67, 0.15);\n",
              "      fill: #174EA6;\n",
              "    }\n",
              "\n",
              "    [theme=dark] .colab-df-convert {\n",
              "      background-color: #3B4455;\n",
              "      fill: #D2E3FC;\n",
              "    }\n",
              "\n",
              "    [theme=dark] .colab-df-convert:hover {\n",
              "      background-color: #434B5C;\n",
              "      box-shadow: 0px 1px 3px 1px rgba(0, 0, 0, 0.15);\n",
              "      filter: drop-shadow(0px 1px 2px rgba(0, 0, 0, 0.3));\n",
              "      fill: #FFFFFF;\n",
              "    }\n",
              "  </style>\n",
              "\n",
              "      <script>\n",
              "        const buttonEl =\n",
              "          document.querySelector('#df-8e861110-a9d4-4ac4-a772-2756758f38c9 button.colab-df-convert');\n",
              "        buttonEl.style.display =\n",
              "          google.colab.kernel.accessAllowed ? 'block' : 'none';\n",
              "\n",
              "        async function convertToInteractive(key) {\n",
              "          const element = document.querySelector('#df-8e861110-a9d4-4ac4-a772-2756758f38c9');\n",
              "          const dataTable =\n",
              "            await google.colab.kernel.invokeFunction('convertToInteractive',\n",
              "                                                     [key], {});\n",
              "          if (!dataTable) return;\n",
              "\n",
              "          const docLinkHtml = 'Like what you see? Visit the ' +\n",
              "            '<a target=\"_blank\" href=https://colab.research.google.com/notebooks/data_table.ipynb>data table notebook</a>'\n",
              "            + ' to learn more about interactive tables.';\n",
              "          element.innerHTML = '';\n",
              "          dataTable['output_type'] = 'display_data';\n",
              "          await google.colab.output.renderOutput(dataTable, element);\n",
              "          const docLink = document.createElement('div');\n",
              "          docLink.innerHTML = docLinkHtml;\n",
              "          element.appendChild(docLink);\n",
              "        }\n",
              "      </script>\n",
              "    </div>\n",
              "  </div>\n",
              "  "
            ]
          },
          "metadata": {},
          "execution_count": 5
        }
      ],
      "source": [
        "train.head(10)"
      ]
    },
    {
      "cell_type": "code",
      "execution_count": 6,
      "metadata": {
        "id": "yU4HkG9h0pcD",
        "colab": {
          "base_uri": "https://localhost:8080/"
        },
        "outputId": "3c19ab4a-d0a4-4275-80dd-278084ec2094"
      },
      "outputs": [
        {
          "output_type": "execute_result",
          "data": {
            "text/plain": [
              "Index(['user_id', 'book_id', 'review_id', 'rating', 'review_text',\n",
              "       'date_added', 'date_updated', 'read_at', 'started_at', 'n_votes',\n",
              "       'n_comments'],\n",
              "      dtype='object')"
            ]
          },
          "metadata": {},
          "execution_count": 6
        }
      ],
      "source": [
        "train.columns"
      ]
    },
    {
      "cell_type": "code",
      "execution_count": 7,
      "metadata": {
        "id": "ov-lzIop0tw5",
        "colab": {
          "base_uri": "https://localhost:8080/"
        },
        "outputId": "ea05747b-cd34-404c-b5f3-a330e0797b96"
      },
      "outputs": [
        {
          "output_type": "execute_result",
          "data": {
            "text/plain": [
              "user_id              0\n",
              "book_id              0\n",
              "review_id            0\n",
              "rating               0\n",
              "review_text          0\n",
              "date_added           0\n",
              "date_updated         0\n",
              "read_at          71412\n",
              "started_at      213411\n",
              "n_votes              0\n",
              "n_comments           0\n",
              "dtype: int64"
            ]
          },
          "metadata": {},
          "execution_count": 7
        }
      ],
      "source": [
        "train.isnull().sum()"
      ]
    },
    {
      "cell_type": "code",
      "execution_count": 8,
      "metadata": {
        "id": "2nlMPh180xUF",
        "colab": {
          "base_uri": "https://localhost:8080/"
        },
        "outputId": "89baca1f-96b7-4f72-bd00-2d08fa47d0cd"
      },
      "outputs": [
        {
          "output_type": "execute_result",
          "data": {
            "text/plain": [
              "user_id         0\n",
              "book_id         0\n",
              "review_id       0\n",
              "rating          0\n",
              "review_text     0\n",
              "date_added      0\n",
              "date_updated    0\n",
              "read_at         0\n",
              "started_at      0\n",
              "n_votes         0\n",
              "n_comments      0\n",
              "dtype: int64"
            ]
          },
          "metadata": {},
          "execution_count": 8
        }
      ],
      "source": [
        "train = train.dropna()\n",
        "train.isnull().sum()"
      ]
    },
    {
      "cell_type": "code",
      "execution_count": 9,
      "metadata": {
        "id": "y6WR_7gc0x1I",
        "colab": {
          "base_uri": "https://localhost:8080/"
        },
        "outputId": "e12c0bd1-155f-47e8-d54f-8b5d30d15f54"
      },
      "outputs": [
        {
          "output_type": "execute_result",
          "data": {
            "text/plain": [
              "user_id         object\n",
              "book_id          int64\n",
              "review_id       object\n",
              "rating           int64\n",
              "review_text     object\n",
              "date_added      object\n",
              "date_updated    object\n",
              "read_at         object\n",
              "started_at      object\n",
              "n_votes          int64\n",
              "n_comments       int64\n",
              "dtype: object"
            ]
          },
          "metadata": {},
          "execution_count": 9
        }
      ],
      "source": [
        "train.dtypes\n"
      ]
    },
    {
      "cell_type": "markdown",
      "metadata": {
        "id": "T94HXoYd0-4S"
      },
      "source": [
        "## **Text Preprocessing**"
      ]
    },
    {
      "cell_type": "markdown",
      "metadata": {
        "id": "ozbkjGPA1KUq"
      },
      "source": [
        "**1.Removing Punctuation**"
      ]
    },
    {
      "cell_type": "code",
      "execution_count": 10,
      "metadata": {
        "id": "x3XXoQgy03E9",
        "colab": {
          "base_uri": "https://localhost:8080/"
        },
        "outputId": "219f5099-2db1-4a56-b5d3-685efd64ef4e"
      },
      "outputs": [
        {
          "output_type": "execute_result",
          "data": {
            "text/plain": [
              "(474612, 5)"
            ]
          },
          "metadata": {},
          "execution_count": 10
        }
      ],
      "source": [
        "# review_text column and rating column's amount of value except duplicates\n",
        "train['review_text'].nunique(), train['rating'].nunique()"
      ]
    },
    {
      "cell_type": "code",
      "execution_count": 11,
      "metadata": {
        "id": "2HiiXdcU1Uz3",
        "colab": {
          "base_uri": "https://localhost:8080/"
        },
        "outputId": "5a042a2a-f988-420d-d158-33c8b57b4b5e"
      },
      "outputs": [
        {
          "output_type": "stream",
          "name": "stdout",
          "text": [
            "The amount of whole sample : 474612\n"
          ]
        }
      ],
      "source": [
        "# review_text column's duplicates values drop\n",
        "train.drop_duplicates(subset=['review_text'], inplace=True)\n",
        "print('The amount of whole sample :',len(train))"
      ]
    },
    {
      "cell_type": "code",
      "execution_count": 12,
      "metadata": {
        "id": "HB-T_0rP1a4W",
        "colab": {
          "base_uri": "https://localhost:8080/"
        },
        "outputId": "a3abad66-14c0-43a9-ea10-8edcea0d04de"
      },
      "outputs": [
        {
          "output_type": "stream",
          "name": "stdout",
          "text": [
            "   rating   count\n",
            "0       1   19369\n",
            "1       2   37074\n",
            "2       3  101197\n",
            "3       4  171552\n",
            "4       5  145420\n"
          ]
        }
      ],
      "source": [
        "print(train.groupby('rating').size().reset_index(name = 'count'))"
      ]
    },
    {
      "cell_type": "code",
      "execution_count": 13,
      "metadata": {
        "id": "X0Z-oE0K1fN8",
        "colab": {
          "base_uri": "https://localhost:8080/",
          "height": 1000
        },
        "outputId": "5a171fe9-7acf-4c6e-d7ef-572fc7a67f6a"
      },
      "outputs": [
        {
          "output_type": "stream",
          "name": "stderr",
          "text": [
            "<ipython-input-13-400838f08790>:1: FutureWarning: The default value of regex will change from True to False in a future version.\n",
            "  train['review_text'] = train['review_text'].str.replace(r'[^a-zA-Z\\s]','')\n"
          ]
        },
        {
          "output_type": "execute_result",
          "data": {
            "text/plain": [
              "                              user_id    book_id  \\\n",
              "0   1da3dcc13cf360b9ecb06251e86237535  182091851   \n",
              "1   1ae436441b6153473ef907aed1006a159    1451461   \n",
              "2   1aa5e9d859b0c0737f4b99a07edf19c88   13483572   \n",
              "3   1940c22aba67c3d49ccd37891c52c9f51  131585171   \n",
              "4   15e03534fccd0e7e1849d712ab9e44342  195643271   \n",
              "5   1b48efac31a7e138507bb2bd3b67699dd    1876765   \n",
              "6   16aa7dc30360af735246abd050c48d965     193148   \n",
              "8   137751140e478526c14f54489ad8ac8f5  133218621   \n",
              "10  1613a9d1eb81d54ff24669873df201084   15288601   \n",
              "11  1329c62a08d87d56d67ce17c6aa906dca  194491822   \n",
              "\n",
              "                            review_id  rating  \\\n",
              "0   1c949b5dedf860514ec8b97ad158c9f4f       5   \n",
              "1   112ee86a20d7e4308c0a054f8b03128cd       5   \n",
              "2   1253729b67f301b75a0f26e85f6d6fb31       5   \n",
              "3   1ae0005e94dce0dc5c18d6ae2b4a329ab       4   \n",
              "4   1d8357d2abdcc656635c5459c1feec761       3   \n",
              "5   1a1ef418b33c36bd5320f9b40168814f8       2   \n",
              "6   1867a74731666f64d1dd989bc40ea2d60       3   \n",
              "8   10800c6611613342cb1d0bc21f9bcef27       1   \n",
              "10  1ff45f071d8d226e4a5d253107c1ec778       3   \n",
              "11  1ed73a534cc7a98b35de46a0bb3d2185c       2   \n",
              "\n",
              "                                          review_text  \\\n",
              "0   I thought this was a very good historical fant...   \n",
              "1   Ive had this book recommended to me more than ...   \n",
              "2   Seriously You go and throw that twist into the...   \n",
              "3   Gosh Im still not recovering from the effing C...   \n",
              "4    stars rounded down I cant help it I just dont...   \n",
              "5   When I first read The Wasp Factory for a Scott...   \n",
              "6   Still an interesting series Each story seems t...   \n",
              "8   DNF at  \\n I dont quite know what I was expect...   \n",
              "10  Really engaging and exciting endings So much s...   \n",
              "11  I did not find this book excellent or even lik...   \n",
              "\n",
              "                        date_added                    date_updated  \\\n",
              "0   Fri Feb 01 16:44:16 -0800 2013  Tue Oct 25 18:49:25 -0700 2016   \n",
              "1   Sun Nov 08 12:10:16 -0800 2015  Sun Nov 08 12:24:59 -0800 2015   \n",
              "2   Wed Oct 10 02:07:19 -0700 2012  Sat Apr 27 00:40:19 -0700 2013   \n",
              "3   Thu Dec 05 00:45:29 -0800 2013  Thu Dec 05 00:50:17 -0800 2013   \n",
              "4   Wed Mar 15 18:08:14 -0700 2017  Wed Jul 05 12:55:32 -0700 2017   \n",
              "5   Sun Sep 21 11:04:16 -0700 2014  Sun Sep 21 11:14:17 -0700 2014   \n",
              "6   Tue Jul 20 14:38:42 -0700 2010  Tue Sep 10 06:33:20 -0700 2013   \n",
              "8   Fri Jan 24 15:05:58 -0800 2014  Sat Mar 11 08:05:14 -0800 2017   \n",
              "10  Sun May 18 10:20:51 -0700 2014  Thu Nov 12 06:01:33 -0800 2015   \n",
              "11  Sat Apr 25 06:43:21 -0700 2015  Mon Aug 01 13:46:23 -0700 2016   \n",
              "\n",
              "                           read_at                      started_at  n_votes  \\\n",
              "0   Sat May 04 00:00:00 -0700 2013  Thu Apr 25 00:00:00 -0700 2013        5   \n",
              "1   Tue May 05 00:00:00 -0700 2015  Sun May 03 00:00:00 -0700 2015        0   \n",
              "2   Sat Apr 27 00:40:19 -0700 2013  Thu Apr 25 00:00:00 -0700 2013        0   \n",
              "3   Thu Dec 05 00:50:17 -0800 2013  Wed Dec 04 00:00:00 -0800 2013        5   \n",
              "4   Wed Apr 12 12:17:07 -0700 2017  Tue Apr 11 00:00:00 -0700 2017        0   \n",
              "5   Sun Sep 21 11:14:17 -0700 2014  Wed Sep 17 00:00:00 -0700 2014        0   \n",
              "6   Fri Mar 31 00:00:00 -0800 2006  Wed Mar 29 00:00:00 -0800 2006        0   \n",
              "8   Fri May 06 00:00:00 -0700 2016  Thu May 05 00:00:00 -0700 2016        0   \n",
              "10  Tue Nov 10 00:00:00 -0800 2015  Tue Sep 22 00:00:00 -0700 2015        1   \n",
              "11  Sun Feb 21 00:00:00 -0800 2016  Fri Feb 19 00:00:00 -0800 2016        0   \n",
              "\n",
              "    n_comments  \n",
              "0            6  \n",
              "1            0  \n",
              "2            0  \n",
              "3            0  \n",
              "4            0  \n",
              "5            0  \n",
              "6            0  \n",
              "8            0  \n",
              "10           0  \n",
              "11           0  "
            ],
            "text/html": [
              "\n",
              "  <div id=\"df-38accc4f-25f0-45c1-9c9c-5893a85f3e41\">\n",
              "    <div class=\"colab-df-container\">\n",
              "      <div>\n",
              "<style scoped>\n",
              "    .dataframe tbody tr th:only-of-type {\n",
              "        vertical-align: middle;\n",
              "    }\n",
              "\n",
              "    .dataframe tbody tr th {\n",
              "        vertical-align: top;\n",
              "    }\n",
              "\n",
              "    .dataframe thead th {\n",
              "        text-align: right;\n",
              "    }\n",
              "</style>\n",
              "<table border=\"1\" class=\"dataframe\">\n",
              "  <thead>\n",
              "    <tr style=\"text-align: right;\">\n",
              "      <th></th>\n",
              "      <th>user_id</th>\n",
              "      <th>book_id</th>\n",
              "      <th>review_id</th>\n",
              "      <th>rating</th>\n",
              "      <th>review_text</th>\n",
              "      <th>date_added</th>\n",
              "      <th>date_updated</th>\n",
              "      <th>read_at</th>\n",
              "      <th>started_at</th>\n",
              "      <th>n_votes</th>\n",
              "      <th>n_comments</th>\n",
              "    </tr>\n",
              "  </thead>\n",
              "  <tbody>\n",
              "    <tr>\n",
              "      <th>0</th>\n",
              "      <td>1da3dcc13cf360b9ecb06251e86237535</td>\n",
              "      <td>182091851</td>\n",
              "      <td>1c949b5dedf860514ec8b97ad158c9f4f</td>\n",
              "      <td>5</td>\n",
              "      <td>I thought this was a very good historical fant...</td>\n",
              "      <td>Fri Feb 01 16:44:16 -0800 2013</td>\n",
              "      <td>Tue Oct 25 18:49:25 -0700 2016</td>\n",
              "      <td>Sat May 04 00:00:00 -0700 2013</td>\n",
              "      <td>Thu Apr 25 00:00:00 -0700 2013</td>\n",
              "      <td>5</td>\n",
              "      <td>6</td>\n",
              "    </tr>\n",
              "    <tr>\n",
              "      <th>1</th>\n",
              "      <td>1ae436441b6153473ef907aed1006a159</td>\n",
              "      <td>1451461</td>\n",
              "      <td>112ee86a20d7e4308c0a054f8b03128cd</td>\n",
              "      <td>5</td>\n",
              "      <td>Ive had this book recommended to me more than ...</td>\n",
              "      <td>Sun Nov 08 12:10:16 -0800 2015</td>\n",
              "      <td>Sun Nov 08 12:24:59 -0800 2015</td>\n",
              "      <td>Tue May 05 00:00:00 -0700 2015</td>\n",
              "      <td>Sun May 03 00:00:00 -0700 2015</td>\n",
              "      <td>0</td>\n",
              "      <td>0</td>\n",
              "    </tr>\n",
              "    <tr>\n",
              "      <th>2</th>\n",
              "      <td>1aa5e9d859b0c0737f4b99a07edf19c88</td>\n",
              "      <td>13483572</td>\n",
              "      <td>1253729b67f301b75a0f26e85f6d6fb31</td>\n",
              "      <td>5</td>\n",
              "      <td>Seriously You go and throw that twist into the...</td>\n",
              "      <td>Wed Oct 10 02:07:19 -0700 2012</td>\n",
              "      <td>Sat Apr 27 00:40:19 -0700 2013</td>\n",
              "      <td>Sat Apr 27 00:40:19 -0700 2013</td>\n",
              "      <td>Thu Apr 25 00:00:00 -0700 2013</td>\n",
              "      <td>0</td>\n",
              "      <td>0</td>\n",
              "    </tr>\n",
              "    <tr>\n",
              "      <th>3</th>\n",
              "      <td>1940c22aba67c3d49ccd37891c52c9f51</td>\n",
              "      <td>131585171</td>\n",
              "      <td>1ae0005e94dce0dc5c18d6ae2b4a329ab</td>\n",
              "      <td>4</td>\n",
              "      <td>Gosh Im still not recovering from the effing C...</td>\n",
              "      <td>Thu Dec 05 00:45:29 -0800 2013</td>\n",
              "      <td>Thu Dec 05 00:50:17 -0800 2013</td>\n",
              "      <td>Thu Dec 05 00:50:17 -0800 2013</td>\n",
              "      <td>Wed Dec 04 00:00:00 -0800 2013</td>\n",
              "      <td>5</td>\n",
              "      <td>0</td>\n",
              "    </tr>\n",
              "    <tr>\n",
              "      <th>4</th>\n",
              "      <td>15e03534fccd0e7e1849d712ab9e44342</td>\n",
              "      <td>195643271</td>\n",
              "      <td>1d8357d2abdcc656635c5459c1feec761</td>\n",
              "      <td>3</td>\n",
              "      <td>stars rounded down I cant help it I just dont...</td>\n",
              "      <td>Wed Mar 15 18:08:14 -0700 2017</td>\n",
              "      <td>Wed Jul 05 12:55:32 -0700 2017</td>\n",
              "      <td>Wed Apr 12 12:17:07 -0700 2017</td>\n",
              "      <td>Tue Apr 11 00:00:00 -0700 2017</td>\n",
              "      <td>0</td>\n",
              "      <td>0</td>\n",
              "    </tr>\n",
              "    <tr>\n",
              "      <th>5</th>\n",
              "      <td>1b48efac31a7e138507bb2bd3b67699dd</td>\n",
              "      <td>1876765</td>\n",
              "      <td>1a1ef418b33c36bd5320f9b40168814f8</td>\n",
              "      <td>2</td>\n",
              "      <td>When I first read The Wasp Factory for a Scott...</td>\n",
              "      <td>Sun Sep 21 11:04:16 -0700 2014</td>\n",
              "      <td>Sun Sep 21 11:14:17 -0700 2014</td>\n",
              "      <td>Sun Sep 21 11:14:17 -0700 2014</td>\n",
              "      <td>Wed Sep 17 00:00:00 -0700 2014</td>\n",
              "      <td>0</td>\n",
              "      <td>0</td>\n",
              "    </tr>\n",
              "    <tr>\n",
              "      <th>6</th>\n",
              "      <td>16aa7dc30360af735246abd050c48d965</td>\n",
              "      <td>193148</td>\n",
              "      <td>1867a74731666f64d1dd989bc40ea2d60</td>\n",
              "      <td>3</td>\n",
              "      <td>Still an interesting series Each story seems t...</td>\n",
              "      <td>Tue Jul 20 14:38:42 -0700 2010</td>\n",
              "      <td>Tue Sep 10 06:33:20 -0700 2013</td>\n",
              "      <td>Fri Mar 31 00:00:00 -0800 2006</td>\n",
              "      <td>Wed Mar 29 00:00:00 -0800 2006</td>\n",
              "      <td>0</td>\n",
              "      <td>0</td>\n",
              "    </tr>\n",
              "    <tr>\n",
              "      <th>8</th>\n",
              "      <td>137751140e478526c14f54489ad8ac8f5</td>\n",
              "      <td>133218621</td>\n",
              "      <td>10800c6611613342cb1d0bc21f9bcef27</td>\n",
              "      <td>1</td>\n",
              "      <td>DNF at  \\n I dont quite know what I was expect...</td>\n",
              "      <td>Fri Jan 24 15:05:58 -0800 2014</td>\n",
              "      <td>Sat Mar 11 08:05:14 -0800 2017</td>\n",
              "      <td>Fri May 06 00:00:00 -0700 2016</td>\n",
              "      <td>Thu May 05 00:00:00 -0700 2016</td>\n",
              "      <td>0</td>\n",
              "      <td>0</td>\n",
              "    </tr>\n",
              "    <tr>\n",
              "      <th>10</th>\n",
              "      <td>1613a9d1eb81d54ff24669873df201084</td>\n",
              "      <td>15288601</td>\n",
              "      <td>1ff45f071d8d226e4a5d253107c1ec778</td>\n",
              "      <td>3</td>\n",
              "      <td>Really engaging and exciting endings So much s...</td>\n",
              "      <td>Sun May 18 10:20:51 -0700 2014</td>\n",
              "      <td>Thu Nov 12 06:01:33 -0800 2015</td>\n",
              "      <td>Tue Nov 10 00:00:00 -0800 2015</td>\n",
              "      <td>Tue Sep 22 00:00:00 -0700 2015</td>\n",
              "      <td>1</td>\n",
              "      <td>0</td>\n",
              "    </tr>\n",
              "    <tr>\n",
              "      <th>11</th>\n",
              "      <td>1329c62a08d87d56d67ce17c6aa906dca</td>\n",
              "      <td>194491822</td>\n",
              "      <td>1ed73a534cc7a98b35de46a0bb3d2185c</td>\n",
              "      <td>2</td>\n",
              "      <td>I did not find this book excellent or even lik...</td>\n",
              "      <td>Sat Apr 25 06:43:21 -0700 2015</td>\n",
              "      <td>Mon Aug 01 13:46:23 -0700 2016</td>\n",
              "      <td>Sun Feb 21 00:00:00 -0800 2016</td>\n",
              "      <td>Fri Feb 19 00:00:00 -0800 2016</td>\n",
              "      <td>0</td>\n",
              "      <td>0</td>\n",
              "    </tr>\n",
              "  </tbody>\n",
              "</table>\n",
              "</div>\n",
              "      <button class=\"colab-df-convert\" onclick=\"convertToInteractive('df-38accc4f-25f0-45c1-9c9c-5893a85f3e41')\"\n",
              "              title=\"Convert this dataframe to an interactive table.\"\n",
              "              style=\"display:none;\">\n",
              "        \n",
              "  <svg xmlns=\"http://www.w3.org/2000/svg\" height=\"24px\"viewBox=\"0 0 24 24\"\n",
              "       width=\"24px\">\n",
              "    <path d=\"M0 0h24v24H0V0z\" fill=\"none\"/>\n",
              "    <path d=\"M18.56 5.44l.94 2.06.94-2.06 2.06-.94-2.06-.94-.94-2.06-.94 2.06-2.06.94zm-11 1L8.5 8.5l.94-2.06 2.06-.94-2.06-.94L8.5 2.5l-.94 2.06-2.06.94zm10 10l.94 2.06.94-2.06 2.06-.94-2.06-.94-.94-2.06-.94 2.06-2.06.94z\"/><path d=\"M17.41 7.96l-1.37-1.37c-.4-.4-.92-.59-1.43-.59-.52 0-1.04.2-1.43.59L10.3 9.45l-7.72 7.72c-.78.78-.78 2.05 0 2.83L4 21.41c.39.39.9.59 1.41.59.51 0 1.02-.2 1.41-.59l7.78-7.78 2.81-2.81c.8-.78.8-2.07 0-2.86zM5.41 20L4 18.59l7.72-7.72 1.47 1.35L5.41 20z\"/>\n",
              "  </svg>\n",
              "      </button>\n",
              "      \n",
              "  <style>\n",
              "    .colab-df-container {\n",
              "      display:flex;\n",
              "      flex-wrap:wrap;\n",
              "      gap: 12px;\n",
              "    }\n",
              "\n",
              "    .colab-df-convert {\n",
              "      background-color: #E8F0FE;\n",
              "      border: none;\n",
              "      border-radius: 50%;\n",
              "      cursor: pointer;\n",
              "      display: none;\n",
              "      fill: #1967D2;\n",
              "      height: 32px;\n",
              "      padding: 0 0 0 0;\n",
              "      width: 32px;\n",
              "    }\n",
              "\n",
              "    .colab-df-convert:hover {\n",
              "      background-color: #E2EBFA;\n",
              "      box-shadow: 0px 1px 2px rgba(60, 64, 67, 0.3), 0px 1px 3px 1px rgba(60, 64, 67, 0.15);\n",
              "      fill: #174EA6;\n",
              "    }\n",
              "\n",
              "    [theme=dark] .colab-df-convert {\n",
              "      background-color: #3B4455;\n",
              "      fill: #D2E3FC;\n",
              "    }\n",
              "\n",
              "    [theme=dark] .colab-df-convert:hover {\n",
              "      background-color: #434B5C;\n",
              "      box-shadow: 0px 1px 3px 1px rgba(0, 0, 0, 0.15);\n",
              "      filter: drop-shadow(0px 1px 2px rgba(0, 0, 0, 0.3));\n",
              "      fill: #FFFFFF;\n",
              "    }\n",
              "  </style>\n",
              "\n",
              "      <script>\n",
              "        const buttonEl =\n",
              "          document.querySelector('#df-38accc4f-25f0-45c1-9c9c-5893a85f3e41 button.colab-df-convert');\n",
              "        buttonEl.style.display =\n",
              "          google.colab.kernel.accessAllowed ? 'block' : 'none';\n",
              "\n",
              "        async function convertToInteractive(key) {\n",
              "          const element = document.querySelector('#df-38accc4f-25f0-45c1-9c9c-5893a85f3e41');\n",
              "          const dataTable =\n",
              "            await google.colab.kernel.invokeFunction('convertToInteractive',\n",
              "                                                     [key], {});\n",
              "          if (!dataTable) return;\n",
              "\n",
              "          const docLinkHtml = 'Like what you see? Visit the ' +\n",
              "            '<a target=\"_blank\" href=https://colab.research.google.com/notebooks/data_table.ipynb>data table notebook</a>'\n",
              "            + ' to learn more about interactive tables.';\n",
              "          element.innerHTML = '';\n",
              "          dataTable['output_type'] = 'display_data';\n",
              "          await google.colab.output.renderOutput(dataTable, element);\n",
              "          const docLink = document.createElement('div');\n",
              "          docLink.innerHTML = docLinkHtml;\n",
              "          element.appendChild(docLink);\n",
              "        }\n",
              "      </script>\n",
              "    </div>\n",
              "  </div>\n",
              "  "
            ]
          },
          "metadata": {},
          "execution_count": 13
        }
      ],
      "source": [
        "train['review_text'] = train['review_text'].str.replace(r'[^a-zA-Z\\s]','')\n",
        "train[:10]"
      ]
    },
    {
      "cell_type": "code",
      "execution_count": 14,
      "metadata": {
        "id": "0i-2TB7T1hMv",
        "colab": {
          "base_uri": "https://localhost:8080/",
          "height": 617
        },
        "outputId": "1cbf1c67-24f7-46d6-97c6-b7582e538a52"
      },
      "outputs": [
        {
          "output_type": "execute_result",
          "data": {
            "text/plain": [
              "                                  user_id    book_id  \\\n",
              "699993  17fe9bcf3994bbd7e1365115d6a5e56ad   15002166   \n",
              "699994  1c4d0befb5c0558f478be47e26ae055f9  171591592   \n",
              "699996  1eeee696a17b2113a5733f5bc1361717d   18920506   \n",
              "699998  14761ca19cf5e6ec4d6cea2e9bdae8eed  163023491   \n",
              "699999  1cf32f3e040dc59913c44a5f14780e9d5   11759699   \n",
              "\n",
              "                                review_id  rating  \\\n",
              "699993  170940d2a1fa0afe5f020e7139e82a27e       4   \n",
              "699994  19129b2bdaa6ed7f41b48318576b3469c       5   \n",
              "699996  1496c6c752fa2cd723e911edfe0a06d89       5   \n",
              "699998  1ea2879877be71e442ad3ee6d98fbe48a       4   \n",
              "699999  125d4428c76ff4ebf12ef7c055603d1bd       5   \n",
              "\n",
              "                                              review_text  \\\n",
              "699993  This series is an interesting take on the clas...   \n",
              "699994  Review to follow when its closer to the releas...   \n",
              "699996  I absolutely hate cliffhangers \\n Dreamfever s...   \n",
              "699998   spoiler alert  \\n  \\n Predictable \\n Im reall...   \n",
              "699999  What a fantastic novel I am not a gamer the on...   \n",
              "\n",
              "                            date_added                    date_updated  \\\n",
              "699993  Mon Oct 25 17:54:24 -0700 2010  Wed Nov 03 18:44:17 -0700 2010   \n",
              "699994  Sun Oct 09 04:59:12 -0700 2016  Mon Oct 10 06:40:56 -0700 2016   \n",
              "699996  Fri Jan 28 08:34:08 -0800 2011  Wed Apr 06 07:00:15 -0700 2011   \n",
              "699998  Wed Jan 01 20:40:03 -0800 2014  Wed Feb 04 14:20:55 -0800 2015   \n",
              "699999  Tue Sep 06 12:17:30 -0700 2011  Sat Sep 10 17:42:22 -0700 2011   \n",
              "\n",
              "                               read_at                      started_at  \\\n",
              "699993  Wed Nov 03 00:00:00 -0700 2010  Wed Nov 03 00:00:00 -0700 2010   \n",
              "699994  Mon Oct 10 08:50:43 -0700 2016  Sun Oct 09 00:00:00 -0700 2016   \n",
              "699996  Wed Apr 06 00:00:00 -0700 2011  Tue Apr 05 00:00:00 -0700 2011   \n",
              "699998  Wed Jul 30 00:00:00 -0700 2014  Tue Jul 29 00:00:00 -0700 2014   \n",
              "699999  Sat Sep 10 00:00:00 -0700 2011  Tue Sep 06 00:00:00 -0700 2011   \n",
              "\n",
              "        n_votes  n_comments  \n",
              "699993        0           0  \n",
              "699994        3           0  \n",
              "699996        0           0  \n",
              "699998        0           0  \n",
              "699999        1           0  "
            ],
            "text/html": [
              "\n",
              "  <div id=\"df-27d2993d-932d-44f0-84a2-a69b49bd1b57\">\n",
              "    <div class=\"colab-df-container\">\n",
              "      <div>\n",
              "<style scoped>\n",
              "    .dataframe tbody tr th:only-of-type {\n",
              "        vertical-align: middle;\n",
              "    }\n",
              "\n",
              "    .dataframe tbody tr th {\n",
              "        vertical-align: top;\n",
              "    }\n",
              "\n",
              "    .dataframe thead th {\n",
              "        text-align: right;\n",
              "    }\n",
              "</style>\n",
              "<table border=\"1\" class=\"dataframe\">\n",
              "  <thead>\n",
              "    <tr style=\"text-align: right;\">\n",
              "      <th></th>\n",
              "      <th>user_id</th>\n",
              "      <th>book_id</th>\n",
              "      <th>review_id</th>\n",
              "      <th>rating</th>\n",
              "      <th>review_text</th>\n",
              "      <th>date_added</th>\n",
              "      <th>date_updated</th>\n",
              "      <th>read_at</th>\n",
              "      <th>started_at</th>\n",
              "      <th>n_votes</th>\n",
              "      <th>n_comments</th>\n",
              "    </tr>\n",
              "  </thead>\n",
              "  <tbody>\n",
              "    <tr>\n",
              "      <th>699993</th>\n",
              "      <td>17fe9bcf3994bbd7e1365115d6a5e56ad</td>\n",
              "      <td>15002166</td>\n",
              "      <td>170940d2a1fa0afe5f020e7139e82a27e</td>\n",
              "      <td>4</td>\n",
              "      <td>This series is an interesting take on the clas...</td>\n",
              "      <td>Mon Oct 25 17:54:24 -0700 2010</td>\n",
              "      <td>Wed Nov 03 18:44:17 -0700 2010</td>\n",
              "      <td>Wed Nov 03 00:00:00 -0700 2010</td>\n",
              "      <td>Wed Nov 03 00:00:00 -0700 2010</td>\n",
              "      <td>0</td>\n",
              "      <td>0</td>\n",
              "    </tr>\n",
              "    <tr>\n",
              "      <th>699994</th>\n",
              "      <td>1c4d0befb5c0558f478be47e26ae055f9</td>\n",
              "      <td>171591592</td>\n",
              "      <td>19129b2bdaa6ed7f41b48318576b3469c</td>\n",
              "      <td>5</td>\n",
              "      <td>Review to follow when its closer to the releas...</td>\n",
              "      <td>Sun Oct 09 04:59:12 -0700 2016</td>\n",
              "      <td>Mon Oct 10 06:40:56 -0700 2016</td>\n",
              "      <td>Mon Oct 10 08:50:43 -0700 2016</td>\n",
              "      <td>Sun Oct 09 00:00:00 -0700 2016</td>\n",
              "      <td>3</td>\n",
              "      <td>0</td>\n",
              "    </tr>\n",
              "    <tr>\n",
              "      <th>699996</th>\n",
              "      <td>1eeee696a17b2113a5733f5bc1361717d</td>\n",
              "      <td>18920506</td>\n",
              "      <td>1496c6c752fa2cd723e911edfe0a06d89</td>\n",
              "      <td>5</td>\n",
              "      <td>I absolutely hate cliffhangers \\n Dreamfever s...</td>\n",
              "      <td>Fri Jan 28 08:34:08 -0800 2011</td>\n",
              "      <td>Wed Apr 06 07:00:15 -0700 2011</td>\n",
              "      <td>Wed Apr 06 00:00:00 -0700 2011</td>\n",
              "      <td>Tue Apr 05 00:00:00 -0700 2011</td>\n",
              "      <td>0</td>\n",
              "      <td>0</td>\n",
              "    </tr>\n",
              "    <tr>\n",
              "      <th>699998</th>\n",
              "      <td>14761ca19cf5e6ec4d6cea2e9bdae8eed</td>\n",
              "      <td>163023491</td>\n",
              "      <td>1ea2879877be71e442ad3ee6d98fbe48a</td>\n",
              "      <td>4</td>\n",
              "      <td>spoiler alert  \\n  \\n Predictable \\n Im reall...</td>\n",
              "      <td>Wed Jan 01 20:40:03 -0800 2014</td>\n",
              "      <td>Wed Feb 04 14:20:55 -0800 2015</td>\n",
              "      <td>Wed Jul 30 00:00:00 -0700 2014</td>\n",
              "      <td>Tue Jul 29 00:00:00 -0700 2014</td>\n",
              "      <td>0</td>\n",
              "      <td>0</td>\n",
              "    </tr>\n",
              "    <tr>\n",
              "      <th>699999</th>\n",
              "      <td>1cf32f3e040dc59913c44a5f14780e9d5</td>\n",
              "      <td>11759699</td>\n",
              "      <td>125d4428c76ff4ebf12ef7c055603d1bd</td>\n",
              "      <td>5</td>\n",
              "      <td>What a fantastic novel I am not a gamer the on...</td>\n",
              "      <td>Tue Sep 06 12:17:30 -0700 2011</td>\n",
              "      <td>Sat Sep 10 17:42:22 -0700 2011</td>\n",
              "      <td>Sat Sep 10 00:00:00 -0700 2011</td>\n",
              "      <td>Tue Sep 06 00:00:00 -0700 2011</td>\n",
              "      <td>1</td>\n",
              "      <td>0</td>\n",
              "    </tr>\n",
              "  </tbody>\n",
              "</table>\n",
              "</div>\n",
              "      <button class=\"colab-df-convert\" onclick=\"convertToInteractive('df-27d2993d-932d-44f0-84a2-a69b49bd1b57')\"\n",
              "              title=\"Convert this dataframe to an interactive table.\"\n",
              "              style=\"display:none;\">\n",
              "        \n",
              "  <svg xmlns=\"http://www.w3.org/2000/svg\" height=\"24px\"viewBox=\"0 0 24 24\"\n",
              "       width=\"24px\">\n",
              "    <path d=\"M0 0h24v24H0V0z\" fill=\"none\"/>\n",
              "    <path d=\"M18.56 5.44l.94 2.06.94-2.06 2.06-.94-2.06-.94-.94-2.06-.94 2.06-2.06.94zm-11 1L8.5 8.5l.94-2.06 2.06-.94-2.06-.94L8.5 2.5l-.94 2.06-2.06.94zm10 10l.94 2.06.94-2.06 2.06-.94-2.06-.94-.94-2.06-.94 2.06-2.06.94z\"/><path d=\"M17.41 7.96l-1.37-1.37c-.4-.4-.92-.59-1.43-.59-.52 0-1.04.2-1.43.59L10.3 9.45l-7.72 7.72c-.78.78-.78 2.05 0 2.83L4 21.41c.39.39.9.59 1.41.59.51 0 1.02-.2 1.41-.59l7.78-7.78 2.81-2.81c.8-.78.8-2.07 0-2.86zM5.41 20L4 18.59l7.72-7.72 1.47 1.35L5.41 20z\"/>\n",
              "  </svg>\n",
              "      </button>\n",
              "      \n",
              "  <style>\n",
              "    .colab-df-container {\n",
              "      display:flex;\n",
              "      flex-wrap:wrap;\n",
              "      gap: 12px;\n",
              "    }\n",
              "\n",
              "    .colab-df-convert {\n",
              "      background-color: #E8F0FE;\n",
              "      border: none;\n",
              "      border-radius: 50%;\n",
              "      cursor: pointer;\n",
              "      display: none;\n",
              "      fill: #1967D2;\n",
              "      height: 32px;\n",
              "      padding: 0 0 0 0;\n",
              "      width: 32px;\n",
              "    }\n",
              "\n",
              "    .colab-df-convert:hover {\n",
              "      background-color: #E2EBFA;\n",
              "      box-shadow: 0px 1px 2px rgba(60, 64, 67, 0.3), 0px 1px 3px 1px rgba(60, 64, 67, 0.15);\n",
              "      fill: #174EA6;\n",
              "    }\n",
              "\n",
              "    [theme=dark] .colab-df-convert {\n",
              "      background-color: #3B4455;\n",
              "      fill: #D2E3FC;\n",
              "    }\n",
              "\n",
              "    [theme=dark] .colab-df-convert:hover {\n",
              "      background-color: #434B5C;\n",
              "      box-shadow: 0px 1px 3px 1px rgba(0, 0, 0, 0.15);\n",
              "      filter: drop-shadow(0px 1px 2px rgba(0, 0, 0, 0.3));\n",
              "      fill: #FFFFFF;\n",
              "    }\n",
              "  </style>\n",
              "\n",
              "      <script>\n",
              "        const buttonEl =\n",
              "          document.querySelector('#df-27d2993d-932d-44f0-84a2-a69b49bd1b57 button.colab-df-convert');\n",
              "        buttonEl.style.display =\n",
              "          google.colab.kernel.accessAllowed ? 'block' : 'none';\n",
              "\n",
              "        async function convertToInteractive(key) {\n",
              "          const element = document.querySelector('#df-27d2993d-932d-44f0-84a2-a69b49bd1b57');\n",
              "          const dataTable =\n",
              "            await google.colab.kernel.invokeFunction('convertToInteractive',\n",
              "                                                     [key], {});\n",
              "          if (!dataTable) return;\n",
              "\n",
              "          const docLinkHtml = 'Like what you see? Visit the ' +\n",
              "            '<a target=\"_blank\" href=https://colab.research.google.com/notebooks/data_table.ipynb>data table notebook</a>'\n",
              "            + ' to learn more about interactive tables.';\n",
              "          element.innerHTML = '';\n",
              "          dataTable['output_type'] = 'display_data';\n",
              "          await google.colab.output.renderOutput(dataTable, element);\n",
              "          const docLink = document.createElement('div');\n",
              "          docLink.innerHTML = docLinkHtml;\n",
              "          element.appendChild(docLink);\n",
              "        }\n",
              "      </script>\n",
              "    </div>\n",
              "  </div>\n",
              "  "
            ]
          },
          "metadata": {},
          "execution_count": 14
        }
      ],
      "source": [
        "train.tail(5)"
      ]
    },
    {
      "cell_type": "code",
      "execution_count": 15,
      "metadata": {
        "id": "Ar5ceTNE1jnm",
        "colab": {
          "base_uri": "https://localhost:8080/",
          "height": 1000
        },
        "outputId": "ac35b1b6-1ca3-4094-b586-235b56cc9f98"
      },
      "outputs": [
        {
          "output_type": "stream",
          "name": "stderr",
          "text": [
            "<ipython-input-15-692cce31976c>:1: FutureWarning: The default value of regex will change from True to False in a future version.\n",
            "  train['review_text'] = train['review_text'].str.replace(r'\\n','')\n"
          ]
        },
        {
          "output_type": "execute_result",
          "data": {
            "text/plain": [
              "                              user_id    book_id  \\\n",
              "0   1da3dcc13cf360b9ecb06251e86237535  182091851   \n",
              "1   1ae436441b6153473ef907aed1006a159    1451461   \n",
              "2   1aa5e9d859b0c0737f4b99a07edf19c88   13483572   \n",
              "3   1940c22aba67c3d49ccd37891c52c9f51  131585171   \n",
              "4   15e03534fccd0e7e1849d712ab9e44342  195643271   \n",
              "5   1b48efac31a7e138507bb2bd3b67699dd    1876765   \n",
              "6   16aa7dc30360af735246abd050c48d965     193148   \n",
              "8   137751140e478526c14f54489ad8ac8f5  133218621   \n",
              "10  1613a9d1eb81d54ff24669873df201084   15288601   \n",
              "11  1329c62a08d87d56d67ce17c6aa906dca  194491822   \n",
              "\n",
              "                            review_id  rating  \\\n",
              "0   1c949b5dedf860514ec8b97ad158c9f4f       5   \n",
              "1   112ee86a20d7e4308c0a054f8b03128cd       5   \n",
              "2   1253729b67f301b75a0f26e85f6d6fb31       5   \n",
              "3   1ae0005e94dce0dc5c18d6ae2b4a329ab       4   \n",
              "4   1d8357d2abdcc656635c5459c1feec761       3   \n",
              "5   1a1ef418b33c36bd5320f9b40168814f8       2   \n",
              "6   1867a74731666f64d1dd989bc40ea2d60       3   \n",
              "8   10800c6611613342cb1d0bc21f9bcef27       1   \n",
              "10  1ff45f071d8d226e4a5d253107c1ec778       3   \n",
              "11  1ed73a534cc7a98b35de46a0bb3d2185c       2   \n",
              "\n",
              "                                          review_text  \\\n",
              "0   I thought this was a very good historical fant...   \n",
              "1   Ive had this book recommended to me more than ...   \n",
              "2   Seriously You go and throw that twist into the...   \n",
              "3   Gosh Im still not recovering from the effing C...   \n",
              "4    stars rounded down I cant help it I just dont...   \n",
              "5   When I first read The Wasp Factory for a Scott...   \n",
              "6   Still an interesting series Each story seems t...   \n",
              "8   DNF at   I dont quite know what I was expectin...   \n",
              "10  Really engaging and exciting endings So much s...   \n",
              "11  I did not find this book excellent or even lik...   \n",
              "\n",
              "                        date_added                    date_updated  \\\n",
              "0   Fri Feb 01 16:44:16 -0800 2013  Tue Oct 25 18:49:25 -0700 2016   \n",
              "1   Sun Nov 08 12:10:16 -0800 2015  Sun Nov 08 12:24:59 -0800 2015   \n",
              "2   Wed Oct 10 02:07:19 -0700 2012  Sat Apr 27 00:40:19 -0700 2013   \n",
              "3   Thu Dec 05 00:45:29 -0800 2013  Thu Dec 05 00:50:17 -0800 2013   \n",
              "4   Wed Mar 15 18:08:14 -0700 2017  Wed Jul 05 12:55:32 -0700 2017   \n",
              "5   Sun Sep 21 11:04:16 -0700 2014  Sun Sep 21 11:14:17 -0700 2014   \n",
              "6   Tue Jul 20 14:38:42 -0700 2010  Tue Sep 10 06:33:20 -0700 2013   \n",
              "8   Fri Jan 24 15:05:58 -0800 2014  Sat Mar 11 08:05:14 -0800 2017   \n",
              "10  Sun May 18 10:20:51 -0700 2014  Thu Nov 12 06:01:33 -0800 2015   \n",
              "11  Sat Apr 25 06:43:21 -0700 2015  Mon Aug 01 13:46:23 -0700 2016   \n",
              "\n",
              "                           read_at                      started_at  n_votes  \\\n",
              "0   Sat May 04 00:00:00 -0700 2013  Thu Apr 25 00:00:00 -0700 2013        5   \n",
              "1   Tue May 05 00:00:00 -0700 2015  Sun May 03 00:00:00 -0700 2015        0   \n",
              "2   Sat Apr 27 00:40:19 -0700 2013  Thu Apr 25 00:00:00 -0700 2013        0   \n",
              "3   Thu Dec 05 00:50:17 -0800 2013  Wed Dec 04 00:00:00 -0800 2013        5   \n",
              "4   Wed Apr 12 12:17:07 -0700 2017  Tue Apr 11 00:00:00 -0700 2017        0   \n",
              "5   Sun Sep 21 11:14:17 -0700 2014  Wed Sep 17 00:00:00 -0700 2014        0   \n",
              "6   Fri Mar 31 00:00:00 -0800 2006  Wed Mar 29 00:00:00 -0800 2006        0   \n",
              "8   Fri May 06 00:00:00 -0700 2016  Thu May 05 00:00:00 -0700 2016        0   \n",
              "10  Tue Nov 10 00:00:00 -0800 2015  Tue Sep 22 00:00:00 -0700 2015        1   \n",
              "11  Sun Feb 21 00:00:00 -0800 2016  Fri Feb 19 00:00:00 -0800 2016        0   \n",
              "\n",
              "    n_comments  \n",
              "0            6  \n",
              "1            0  \n",
              "2            0  \n",
              "3            0  \n",
              "4            0  \n",
              "5            0  \n",
              "6            0  \n",
              "8            0  \n",
              "10           0  \n",
              "11           0  "
            ],
            "text/html": [
              "\n",
              "  <div id=\"df-53941acd-0f29-4f90-96ea-968c0ba6e131\">\n",
              "    <div class=\"colab-df-container\">\n",
              "      <div>\n",
              "<style scoped>\n",
              "    .dataframe tbody tr th:only-of-type {\n",
              "        vertical-align: middle;\n",
              "    }\n",
              "\n",
              "    .dataframe tbody tr th {\n",
              "        vertical-align: top;\n",
              "    }\n",
              "\n",
              "    .dataframe thead th {\n",
              "        text-align: right;\n",
              "    }\n",
              "</style>\n",
              "<table border=\"1\" class=\"dataframe\">\n",
              "  <thead>\n",
              "    <tr style=\"text-align: right;\">\n",
              "      <th></th>\n",
              "      <th>user_id</th>\n",
              "      <th>book_id</th>\n",
              "      <th>review_id</th>\n",
              "      <th>rating</th>\n",
              "      <th>review_text</th>\n",
              "      <th>date_added</th>\n",
              "      <th>date_updated</th>\n",
              "      <th>read_at</th>\n",
              "      <th>started_at</th>\n",
              "      <th>n_votes</th>\n",
              "      <th>n_comments</th>\n",
              "    </tr>\n",
              "  </thead>\n",
              "  <tbody>\n",
              "    <tr>\n",
              "      <th>0</th>\n",
              "      <td>1da3dcc13cf360b9ecb06251e86237535</td>\n",
              "      <td>182091851</td>\n",
              "      <td>1c949b5dedf860514ec8b97ad158c9f4f</td>\n",
              "      <td>5</td>\n",
              "      <td>I thought this was a very good historical fant...</td>\n",
              "      <td>Fri Feb 01 16:44:16 -0800 2013</td>\n",
              "      <td>Tue Oct 25 18:49:25 -0700 2016</td>\n",
              "      <td>Sat May 04 00:00:00 -0700 2013</td>\n",
              "      <td>Thu Apr 25 00:00:00 -0700 2013</td>\n",
              "      <td>5</td>\n",
              "      <td>6</td>\n",
              "    </tr>\n",
              "    <tr>\n",
              "      <th>1</th>\n",
              "      <td>1ae436441b6153473ef907aed1006a159</td>\n",
              "      <td>1451461</td>\n",
              "      <td>112ee86a20d7e4308c0a054f8b03128cd</td>\n",
              "      <td>5</td>\n",
              "      <td>Ive had this book recommended to me more than ...</td>\n",
              "      <td>Sun Nov 08 12:10:16 -0800 2015</td>\n",
              "      <td>Sun Nov 08 12:24:59 -0800 2015</td>\n",
              "      <td>Tue May 05 00:00:00 -0700 2015</td>\n",
              "      <td>Sun May 03 00:00:00 -0700 2015</td>\n",
              "      <td>0</td>\n",
              "      <td>0</td>\n",
              "    </tr>\n",
              "    <tr>\n",
              "      <th>2</th>\n",
              "      <td>1aa5e9d859b0c0737f4b99a07edf19c88</td>\n",
              "      <td>13483572</td>\n",
              "      <td>1253729b67f301b75a0f26e85f6d6fb31</td>\n",
              "      <td>5</td>\n",
              "      <td>Seriously You go and throw that twist into the...</td>\n",
              "      <td>Wed Oct 10 02:07:19 -0700 2012</td>\n",
              "      <td>Sat Apr 27 00:40:19 -0700 2013</td>\n",
              "      <td>Sat Apr 27 00:40:19 -0700 2013</td>\n",
              "      <td>Thu Apr 25 00:00:00 -0700 2013</td>\n",
              "      <td>0</td>\n",
              "      <td>0</td>\n",
              "    </tr>\n",
              "    <tr>\n",
              "      <th>3</th>\n",
              "      <td>1940c22aba67c3d49ccd37891c52c9f51</td>\n",
              "      <td>131585171</td>\n",
              "      <td>1ae0005e94dce0dc5c18d6ae2b4a329ab</td>\n",
              "      <td>4</td>\n",
              "      <td>Gosh Im still not recovering from the effing C...</td>\n",
              "      <td>Thu Dec 05 00:45:29 -0800 2013</td>\n",
              "      <td>Thu Dec 05 00:50:17 -0800 2013</td>\n",
              "      <td>Thu Dec 05 00:50:17 -0800 2013</td>\n",
              "      <td>Wed Dec 04 00:00:00 -0800 2013</td>\n",
              "      <td>5</td>\n",
              "      <td>0</td>\n",
              "    </tr>\n",
              "    <tr>\n",
              "      <th>4</th>\n",
              "      <td>15e03534fccd0e7e1849d712ab9e44342</td>\n",
              "      <td>195643271</td>\n",
              "      <td>1d8357d2abdcc656635c5459c1feec761</td>\n",
              "      <td>3</td>\n",
              "      <td>stars rounded down I cant help it I just dont...</td>\n",
              "      <td>Wed Mar 15 18:08:14 -0700 2017</td>\n",
              "      <td>Wed Jul 05 12:55:32 -0700 2017</td>\n",
              "      <td>Wed Apr 12 12:17:07 -0700 2017</td>\n",
              "      <td>Tue Apr 11 00:00:00 -0700 2017</td>\n",
              "      <td>0</td>\n",
              "      <td>0</td>\n",
              "    </tr>\n",
              "    <tr>\n",
              "      <th>5</th>\n",
              "      <td>1b48efac31a7e138507bb2bd3b67699dd</td>\n",
              "      <td>1876765</td>\n",
              "      <td>1a1ef418b33c36bd5320f9b40168814f8</td>\n",
              "      <td>2</td>\n",
              "      <td>When I first read The Wasp Factory for a Scott...</td>\n",
              "      <td>Sun Sep 21 11:04:16 -0700 2014</td>\n",
              "      <td>Sun Sep 21 11:14:17 -0700 2014</td>\n",
              "      <td>Sun Sep 21 11:14:17 -0700 2014</td>\n",
              "      <td>Wed Sep 17 00:00:00 -0700 2014</td>\n",
              "      <td>0</td>\n",
              "      <td>0</td>\n",
              "    </tr>\n",
              "    <tr>\n",
              "      <th>6</th>\n",
              "      <td>16aa7dc30360af735246abd050c48d965</td>\n",
              "      <td>193148</td>\n",
              "      <td>1867a74731666f64d1dd989bc40ea2d60</td>\n",
              "      <td>3</td>\n",
              "      <td>Still an interesting series Each story seems t...</td>\n",
              "      <td>Tue Jul 20 14:38:42 -0700 2010</td>\n",
              "      <td>Tue Sep 10 06:33:20 -0700 2013</td>\n",
              "      <td>Fri Mar 31 00:00:00 -0800 2006</td>\n",
              "      <td>Wed Mar 29 00:00:00 -0800 2006</td>\n",
              "      <td>0</td>\n",
              "      <td>0</td>\n",
              "    </tr>\n",
              "    <tr>\n",
              "      <th>8</th>\n",
              "      <td>137751140e478526c14f54489ad8ac8f5</td>\n",
              "      <td>133218621</td>\n",
              "      <td>10800c6611613342cb1d0bc21f9bcef27</td>\n",
              "      <td>1</td>\n",
              "      <td>DNF at   I dont quite know what I was expectin...</td>\n",
              "      <td>Fri Jan 24 15:05:58 -0800 2014</td>\n",
              "      <td>Sat Mar 11 08:05:14 -0800 2017</td>\n",
              "      <td>Fri May 06 00:00:00 -0700 2016</td>\n",
              "      <td>Thu May 05 00:00:00 -0700 2016</td>\n",
              "      <td>0</td>\n",
              "      <td>0</td>\n",
              "    </tr>\n",
              "    <tr>\n",
              "      <th>10</th>\n",
              "      <td>1613a9d1eb81d54ff24669873df201084</td>\n",
              "      <td>15288601</td>\n",
              "      <td>1ff45f071d8d226e4a5d253107c1ec778</td>\n",
              "      <td>3</td>\n",
              "      <td>Really engaging and exciting endings So much s...</td>\n",
              "      <td>Sun May 18 10:20:51 -0700 2014</td>\n",
              "      <td>Thu Nov 12 06:01:33 -0800 2015</td>\n",
              "      <td>Tue Nov 10 00:00:00 -0800 2015</td>\n",
              "      <td>Tue Sep 22 00:00:00 -0700 2015</td>\n",
              "      <td>1</td>\n",
              "      <td>0</td>\n",
              "    </tr>\n",
              "    <tr>\n",
              "      <th>11</th>\n",
              "      <td>1329c62a08d87d56d67ce17c6aa906dca</td>\n",
              "      <td>194491822</td>\n",
              "      <td>1ed73a534cc7a98b35de46a0bb3d2185c</td>\n",
              "      <td>2</td>\n",
              "      <td>I did not find this book excellent or even lik...</td>\n",
              "      <td>Sat Apr 25 06:43:21 -0700 2015</td>\n",
              "      <td>Mon Aug 01 13:46:23 -0700 2016</td>\n",
              "      <td>Sun Feb 21 00:00:00 -0800 2016</td>\n",
              "      <td>Fri Feb 19 00:00:00 -0800 2016</td>\n",
              "      <td>0</td>\n",
              "      <td>0</td>\n",
              "    </tr>\n",
              "  </tbody>\n",
              "</table>\n",
              "</div>\n",
              "      <button class=\"colab-df-convert\" onclick=\"convertToInteractive('df-53941acd-0f29-4f90-96ea-968c0ba6e131')\"\n",
              "              title=\"Convert this dataframe to an interactive table.\"\n",
              "              style=\"display:none;\">\n",
              "        \n",
              "  <svg xmlns=\"http://www.w3.org/2000/svg\" height=\"24px\"viewBox=\"0 0 24 24\"\n",
              "       width=\"24px\">\n",
              "    <path d=\"M0 0h24v24H0V0z\" fill=\"none\"/>\n",
              "    <path d=\"M18.56 5.44l.94 2.06.94-2.06 2.06-.94-2.06-.94-.94-2.06-.94 2.06-2.06.94zm-11 1L8.5 8.5l.94-2.06 2.06-.94-2.06-.94L8.5 2.5l-.94 2.06-2.06.94zm10 10l.94 2.06.94-2.06 2.06-.94-2.06-.94-.94-2.06-.94 2.06-2.06.94z\"/><path d=\"M17.41 7.96l-1.37-1.37c-.4-.4-.92-.59-1.43-.59-.52 0-1.04.2-1.43.59L10.3 9.45l-7.72 7.72c-.78.78-.78 2.05 0 2.83L4 21.41c.39.39.9.59 1.41.59.51 0 1.02-.2 1.41-.59l7.78-7.78 2.81-2.81c.8-.78.8-2.07 0-2.86zM5.41 20L4 18.59l7.72-7.72 1.47 1.35L5.41 20z\"/>\n",
              "  </svg>\n",
              "      </button>\n",
              "      \n",
              "  <style>\n",
              "    .colab-df-container {\n",
              "      display:flex;\n",
              "      flex-wrap:wrap;\n",
              "      gap: 12px;\n",
              "    }\n",
              "\n",
              "    .colab-df-convert {\n",
              "      background-color: #E8F0FE;\n",
              "      border: none;\n",
              "      border-radius: 50%;\n",
              "      cursor: pointer;\n",
              "      display: none;\n",
              "      fill: #1967D2;\n",
              "      height: 32px;\n",
              "      padding: 0 0 0 0;\n",
              "      width: 32px;\n",
              "    }\n",
              "\n",
              "    .colab-df-convert:hover {\n",
              "      background-color: #E2EBFA;\n",
              "      box-shadow: 0px 1px 2px rgba(60, 64, 67, 0.3), 0px 1px 3px 1px rgba(60, 64, 67, 0.15);\n",
              "      fill: #174EA6;\n",
              "    }\n",
              "\n",
              "    [theme=dark] .colab-df-convert {\n",
              "      background-color: #3B4455;\n",
              "      fill: #D2E3FC;\n",
              "    }\n",
              "\n",
              "    [theme=dark] .colab-df-convert:hover {\n",
              "      background-color: #434B5C;\n",
              "      box-shadow: 0px 1px 3px 1px rgba(0, 0, 0, 0.15);\n",
              "      filter: drop-shadow(0px 1px 2px rgba(0, 0, 0, 0.3));\n",
              "      fill: #FFFFFF;\n",
              "    }\n",
              "  </style>\n",
              "\n",
              "      <script>\n",
              "        const buttonEl =\n",
              "          document.querySelector('#df-53941acd-0f29-4f90-96ea-968c0ba6e131 button.colab-df-convert');\n",
              "        buttonEl.style.display =\n",
              "          google.colab.kernel.accessAllowed ? 'block' : 'none';\n",
              "\n",
              "        async function convertToInteractive(key) {\n",
              "          const element = document.querySelector('#df-53941acd-0f29-4f90-96ea-968c0ba6e131');\n",
              "          const dataTable =\n",
              "            await google.colab.kernel.invokeFunction('convertToInteractive',\n",
              "                                                     [key], {});\n",
              "          if (!dataTable) return;\n",
              "\n",
              "          const docLinkHtml = 'Like what you see? Visit the ' +\n",
              "            '<a target=\"_blank\" href=https://colab.research.google.com/notebooks/data_table.ipynb>data table notebook</a>'\n",
              "            + ' to learn more about interactive tables.';\n",
              "          element.innerHTML = '';\n",
              "          dataTable['output_type'] = 'display_data';\n",
              "          await google.colab.output.renderOutput(dataTable, element);\n",
              "          const docLink = document.createElement('div');\n",
              "          docLink.innerHTML = docLinkHtml;\n",
              "          element.appendChild(docLink);\n",
              "        }\n",
              "      </script>\n",
              "    </div>\n",
              "  </div>\n",
              "  "
            ]
          },
          "metadata": {},
          "execution_count": 15
        }
      ],
      "source": [
        "train['review_text'] = train['review_text'].str.replace(r'\\n','')\n",
        "train[:10]"
      ]
    },
    {
      "cell_type": "markdown",
      "metadata": {
        "id": "X6PauB3b2iZm"
      },
      "source": [
        "Now I removed all the punctuation marks, and it is time to do the tokenization"
      ]
    },
    {
      "cell_type": "markdown",
      "metadata": {
        "id": "rHCkOlGd2kv_"
      },
      "source": [
        "**Tokenization & Removing Stopwords**"
      ]
    },
    {
      "cell_type": "code",
      "execution_count": 16,
      "metadata": {
        "id": "Y4F7x6jd3oR3",
        "colab": {
          "base_uri": "https://localhost:8080/"
        },
        "outputId": "a37c5595-c263-40f9-9777-4a4615a43e76"
      },
      "outputs": [
        {
          "output_type": "stream",
          "name": "stderr",
          "text": [
            "[nltk_data] Downloading package stopwords to /root/nltk_data...\n",
            "[nltk_data]   Unzipping corpora/stopwords.zip.\n"
          ]
        },
        {
          "output_type": "execute_result",
          "data": {
            "text/plain": [
              "True"
            ]
          },
          "metadata": {},
          "execution_count": 16
        }
      ],
      "source": [
        "import nltk\n",
        "nltk.download('stopwords')"
      ]
    },
    {
      "cell_type": "code",
      "execution_count": 17,
      "metadata": {
        "id": "85c3jVV62XyT"
      },
      "outputs": [],
      "source": [
        "from sklearn.feature_extraction.text import CountVectorizer\n",
        "from nltk.corpus import stopwords\n",
        "\n",
        "# Get the list of English stopwords from NLTK\n",
        "stop_words = stopwords.words('english')\n",
        "\n",
        "# Create a CountVectorizer object with stopwords\n",
        "vectorizer = CountVectorizer(stop_words=stop_words)\n",
        "\n",
        "# Fit the vectorizer on the text data\n",
        "#vectorizer.fit(train['review_text'])"
      ]
    },
    {
      "cell_type": "markdown",
      "metadata": {
        "id": "ottwPASo4KXJ"
      },
      "source": [
        "**Checking and Removal Common words and rare words**"
      ]
    },
    {
      "cell_type": "code",
      "execution_count": 18,
      "metadata": {
        "id": "KXIdx0tn2tsX",
        "colab": {
          "base_uri": "https://localhost:8080/"
        },
        "outputId": "5d251717-ed56-4a13-aa80-6e9c70095327"
      },
      "outputs": [
        {
          "output_type": "execute_result",
          "data": {
            "text/plain": [
              "[('the', 4114225),\n",
              " ('and', 2957405),\n",
              " ('I', 2908545),\n",
              " ('to', 2515521),\n",
              " ('a', 2313073),\n",
              " ('of', 2067660),\n",
              " ('is', 1332526),\n",
              " ('that', 1329199),\n",
              " ('was', 1327832),\n",
              " ('in', 1281593)]"
            ]
          },
          "metadata": {},
          "execution_count": 18
        }
      ],
      "source": [
        "#checking common words\n",
        "from collections import Counter\n",
        "cnt = Counter()\n",
        "for text in train[\"review_text\"].values:\n",
        "    for word in text.split():\n",
        "        cnt[word] += 1\n",
        "        \n",
        "cnt.most_common(10)"
      ]
    },
    {
      "cell_type": "code",
      "execution_count": 19,
      "metadata": {
        "id": "WDdUEoxT4S0u",
        "colab": {
          "base_uri": "https://localhost:8080/",
          "height": 617
        },
        "outputId": "62ad1b91-2651-4a28-cb26-11b47ef2eab4"
      },
      "outputs": [
        {
          "output_type": "execute_result",
          "data": {
            "text/plain": [
              "                             user_id    book_id  \\\n",
              "0  1da3dcc13cf360b9ecb06251e86237535  182091851   \n",
              "1  1ae436441b6153473ef907aed1006a159    1451461   \n",
              "2  1aa5e9d859b0c0737f4b99a07edf19c88   13483572   \n",
              "3  1940c22aba67c3d49ccd37891c52c9f51  131585171   \n",
              "4  15e03534fccd0e7e1849d712ab9e44342  195643271   \n",
              "\n",
              "                           review_id  rating  \\\n",
              "0  1c949b5dedf860514ec8b97ad158c9f4f       5   \n",
              "1  112ee86a20d7e4308c0a054f8b03128cd       5   \n",
              "2  1253729b67f301b75a0f26e85f6d6fb31       5   \n",
              "3  1ae0005e94dce0dc5c18d6ae2b4a329ab       4   \n",
              "4  1d8357d2abdcc656635c5459c1feec761       3   \n",
              "\n",
              "                                         review_text  \\\n",
              "0  thought this very good historical fantasy set ...   \n",
              "1  Ive had this book recommended me more than onc...   \n",
              "2  Seriously You go throw twist into story This w...   \n",
              "3  Gosh Im still not recovering from effing CLIFF...   \n",
              "4  stars rounded down cant help it just dont conn...   \n",
              "\n",
              "                       date_added                    date_updated  \\\n",
              "0  Fri Feb 01 16:44:16 -0800 2013  Tue Oct 25 18:49:25 -0700 2016   \n",
              "1  Sun Nov 08 12:10:16 -0800 2015  Sun Nov 08 12:24:59 -0800 2015   \n",
              "2  Wed Oct 10 02:07:19 -0700 2012  Sat Apr 27 00:40:19 -0700 2013   \n",
              "3  Thu Dec 05 00:45:29 -0800 2013  Thu Dec 05 00:50:17 -0800 2013   \n",
              "4  Wed Mar 15 18:08:14 -0700 2017  Wed Jul 05 12:55:32 -0700 2017   \n",
              "\n",
              "                          read_at                      started_at  n_votes  \\\n",
              "0  Sat May 04 00:00:00 -0700 2013  Thu Apr 25 00:00:00 -0700 2013        5   \n",
              "1  Tue May 05 00:00:00 -0700 2015  Sun May 03 00:00:00 -0700 2015        0   \n",
              "2  Sat Apr 27 00:40:19 -0700 2013  Thu Apr 25 00:00:00 -0700 2013        0   \n",
              "3  Thu Dec 05 00:50:17 -0800 2013  Wed Dec 04 00:00:00 -0800 2013        5   \n",
              "4  Wed Apr 12 12:17:07 -0700 2017  Tue Apr 11 00:00:00 -0700 2017        0   \n",
              "\n",
              "   n_comments  \n",
              "0           6  \n",
              "1           0  \n",
              "2           0  \n",
              "3           0  \n",
              "4           0  "
            ],
            "text/html": [
              "\n",
              "  <div id=\"df-a22ab249-a330-4bf4-b554-b2141e9f942b\">\n",
              "    <div class=\"colab-df-container\">\n",
              "      <div>\n",
              "<style scoped>\n",
              "    .dataframe tbody tr th:only-of-type {\n",
              "        vertical-align: middle;\n",
              "    }\n",
              "\n",
              "    .dataframe tbody tr th {\n",
              "        vertical-align: top;\n",
              "    }\n",
              "\n",
              "    .dataframe thead th {\n",
              "        text-align: right;\n",
              "    }\n",
              "</style>\n",
              "<table border=\"1\" class=\"dataframe\">\n",
              "  <thead>\n",
              "    <tr style=\"text-align: right;\">\n",
              "      <th></th>\n",
              "      <th>user_id</th>\n",
              "      <th>book_id</th>\n",
              "      <th>review_id</th>\n",
              "      <th>rating</th>\n",
              "      <th>review_text</th>\n",
              "      <th>date_added</th>\n",
              "      <th>date_updated</th>\n",
              "      <th>read_at</th>\n",
              "      <th>started_at</th>\n",
              "      <th>n_votes</th>\n",
              "      <th>n_comments</th>\n",
              "    </tr>\n",
              "  </thead>\n",
              "  <tbody>\n",
              "    <tr>\n",
              "      <th>0</th>\n",
              "      <td>1da3dcc13cf360b9ecb06251e86237535</td>\n",
              "      <td>182091851</td>\n",
              "      <td>1c949b5dedf860514ec8b97ad158c9f4f</td>\n",
              "      <td>5</td>\n",
              "      <td>thought this very good historical fantasy set ...</td>\n",
              "      <td>Fri Feb 01 16:44:16 -0800 2013</td>\n",
              "      <td>Tue Oct 25 18:49:25 -0700 2016</td>\n",
              "      <td>Sat May 04 00:00:00 -0700 2013</td>\n",
              "      <td>Thu Apr 25 00:00:00 -0700 2013</td>\n",
              "      <td>5</td>\n",
              "      <td>6</td>\n",
              "    </tr>\n",
              "    <tr>\n",
              "      <th>1</th>\n",
              "      <td>1ae436441b6153473ef907aed1006a159</td>\n",
              "      <td>1451461</td>\n",
              "      <td>112ee86a20d7e4308c0a054f8b03128cd</td>\n",
              "      <td>5</td>\n",
              "      <td>Ive had this book recommended me more than onc...</td>\n",
              "      <td>Sun Nov 08 12:10:16 -0800 2015</td>\n",
              "      <td>Sun Nov 08 12:24:59 -0800 2015</td>\n",
              "      <td>Tue May 05 00:00:00 -0700 2015</td>\n",
              "      <td>Sun May 03 00:00:00 -0700 2015</td>\n",
              "      <td>0</td>\n",
              "      <td>0</td>\n",
              "    </tr>\n",
              "    <tr>\n",
              "      <th>2</th>\n",
              "      <td>1aa5e9d859b0c0737f4b99a07edf19c88</td>\n",
              "      <td>13483572</td>\n",
              "      <td>1253729b67f301b75a0f26e85f6d6fb31</td>\n",
              "      <td>5</td>\n",
              "      <td>Seriously You go throw twist into story This w...</td>\n",
              "      <td>Wed Oct 10 02:07:19 -0700 2012</td>\n",
              "      <td>Sat Apr 27 00:40:19 -0700 2013</td>\n",
              "      <td>Sat Apr 27 00:40:19 -0700 2013</td>\n",
              "      <td>Thu Apr 25 00:00:00 -0700 2013</td>\n",
              "      <td>0</td>\n",
              "      <td>0</td>\n",
              "    </tr>\n",
              "    <tr>\n",
              "      <th>3</th>\n",
              "      <td>1940c22aba67c3d49ccd37891c52c9f51</td>\n",
              "      <td>131585171</td>\n",
              "      <td>1ae0005e94dce0dc5c18d6ae2b4a329ab</td>\n",
              "      <td>4</td>\n",
              "      <td>Gosh Im still not recovering from effing CLIFF...</td>\n",
              "      <td>Thu Dec 05 00:45:29 -0800 2013</td>\n",
              "      <td>Thu Dec 05 00:50:17 -0800 2013</td>\n",
              "      <td>Thu Dec 05 00:50:17 -0800 2013</td>\n",
              "      <td>Wed Dec 04 00:00:00 -0800 2013</td>\n",
              "      <td>5</td>\n",
              "      <td>0</td>\n",
              "    </tr>\n",
              "    <tr>\n",
              "      <th>4</th>\n",
              "      <td>15e03534fccd0e7e1849d712ab9e44342</td>\n",
              "      <td>195643271</td>\n",
              "      <td>1d8357d2abdcc656635c5459c1feec761</td>\n",
              "      <td>3</td>\n",
              "      <td>stars rounded down cant help it just dont conn...</td>\n",
              "      <td>Wed Mar 15 18:08:14 -0700 2017</td>\n",
              "      <td>Wed Jul 05 12:55:32 -0700 2017</td>\n",
              "      <td>Wed Apr 12 12:17:07 -0700 2017</td>\n",
              "      <td>Tue Apr 11 00:00:00 -0700 2017</td>\n",
              "      <td>0</td>\n",
              "      <td>0</td>\n",
              "    </tr>\n",
              "  </tbody>\n",
              "</table>\n",
              "</div>\n",
              "      <button class=\"colab-df-convert\" onclick=\"convertToInteractive('df-a22ab249-a330-4bf4-b554-b2141e9f942b')\"\n",
              "              title=\"Convert this dataframe to an interactive table.\"\n",
              "              style=\"display:none;\">\n",
              "        \n",
              "  <svg xmlns=\"http://www.w3.org/2000/svg\" height=\"24px\"viewBox=\"0 0 24 24\"\n",
              "       width=\"24px\">\n",
              "    <path d=\"M0 0h24v24H0V0z\" fill=\"none\"/>\n",
              "    <path d=\"M18.56 5.44l.94 2.06.94-2.06 2.06-.94-2.06-.94-.94-2.06-.94 2.06-2.06.94zm-11 1L8.5 8.5l.94-2.06 2.06-.94-2.06-.94L8.5 2.5l-.94 2.06-2.06.94zm10 10l.94 2.06.94-2.06 2.06-.94-2.06-.94-.94-2.06-.94 2.06-2.06.94z\"/><path d=\"M17.41 7.96l-1.37-1.37c-.4-.4-.92-.59-1.43-.59-.52 0-1.04.2-1.43.59L10.3 9.45l-7.72 7.72c-.78.78-.78 2.05 0 2.83L4 21.41c.39.39.9.59 1.41.59.51 0 1.02-.2 1.41-.59l7.78-7.78 2.81-2.81c.8-.78.8-2.07 0-2.86zM5.41 20L4 18.59l7.72-7.72 1.47 1.35L5.41 20z\"/>\n",
              "  </svg>\n",
              "      </button>\n",
              "      \n",
              "  <style>\n",
              "    .colab-df-container {\n",
              "      display:flex;\n",
              "      flex-wrap:wrap;\n",
              "      gap: 12px;\n",
              "    }\n",
              "\n",
              "    .colab-df-convert {\n",
              "      background-color: #E8F0FE;\n",
              "      border: none;\n",
              "      border-radius: 50%;\n",
              "      cursor: pointer;\n",
              "      display: none;\n",
              "      fill: #1967D2;\n",
              "      height: 32px;\n",
              "      padding: 0 0 0 0;\n",
              "      width: 32px;\n",
              "    }\n",
              "\n",
              "    .colab-df-convert:hover {\n",
              "      background-color: #E2EBFA;\n",
              "      box-shadow: 0px 1px 2px rgba(60, 64, 67, 0.3), 0px 1px 3px 1px rgba(60, 64, 67, 0.15);\n",
              "      fill: #174EA6;\n",
              "    }\n",
              "\n",
              "    [theme=dark] .colab-df-convert {\n",
              "      background-color: #3B4455;\n",
              "      fill: #D2E3FC;\n",
              "    }\n",
              "\n",
              "    [theme=dark] .colab-df-convert:hover {\n",
              "      background-color: #434B5C;\n",
              "      box-shadow: 0px 1px 3px 1px rgba(0, 0, 0, 0.15);\n",
              "      filter: drop-shadow(0px 1px 2px rgba(0, 0, 0, 0.3));\n",
              "      fill: #FFFFFF;\n",
              "    }\n",
              "  </style>\n",
              "\n",
              "      <script>\n",
              "        const buttonEl =\n",
              "          document.querySelector('#df-a22ab249-a330-4bf4-b554-b2141e9f942b button.colab-df-convert');\n",
              "        buttonEl.style.display =\n",
              "          google.colab.kernel.accessAllowed ? 'block' : 'none';\n",
              "\n",
              "        async function convertToInteractive(key) {\n",
              "          const element = document.querySelector('#df-a22ab249-a330-4bf4-b554-b2141e9f942b');\n",
              "          const dataTable =\n",
              "            await google.colab.kernel.invokeFunction('convertToInteractive',\n",
              "                                                     [key], {});\n",
              "          if (!dataTable) return;\n",
              "\n",
              "          const docLinkHtml = 'Like what you see? Visit the ' +\n",
              "            '<a target=\"_blank\" href=https://colab.research.google.com/notebooks/data_table.ipynb>data table notebook</a>'\n",
              "            + ' to learn more about interactive tables.';\n",
              "          element.innerHTML = '';\n",
              "          dataTable['output_type'] = 'display_data';\n",
              "          await google.colab.output.renderOutput(dataTable, element);\n",
              "          const docLink = document.createElement('div');\n",
              "          docLink.innerHTML = docLinkHtml;\n",
              "          element.appendChild(docLink);\n",
              "        }\n",
              "      </script>\n",
              "    </div>\n",
              "  </div>\n",
              "  "
            ]
          },
          "metadata": {},
          "execution_count": 19
        }
      ],
      "source": [
        "\n",
        "FREQWORDS = set([w for (w, wc) in cnt.most_common(10)])\n",
        "def remove_freqwords(text):\n",
        "    \"\"\"custom function to remove the frequent words\"\"\"\n",
        "    return \" \".join([word for word in str(text).split() if word not in FREQWORDS])\n",
        "\n",
        "train[\"review_text\"] = train[\"review_text\"].apply(lambda text: remove_freqwords(text))\n",
        "train.head()"
      ]
    },
    {
      "cell_type": "code",
      "execution_count": 20,
      "metadata": {
        "id": "dDscaaTY4Wx4",
        "colab": {
          "base_uri": "https://localhost:8080/",
          "height": 617
        },
        "outputId": "c19db6d3-cbdb-4322-ae07-6a7d50f677a6"
      },
      "outputs": [
        {
          "output_type": "execute_result",
          "data": {
            "text/plain": [
              "                             user_id    book_id  \\\n",
              "0  1da3dcc13cf360b9ecb06251e86237535  182091851   \n",
              "1  1ae436441b6153473ef907aed1006a159    1451461   \n",
              "2  1aa5e9d859b0c0737f4b99a07edf19c88   13483572   \n",
              "3  1940c22aba67c3d49ccd37891c52c9f51  131585171   \n",
              "4  15e03534fccd0e7e1849d712ab9e44342  195643271   \n",
              "\n",
              "                           review_id  rating  \\\n",
              "0  1c949b5dedf860514ec8b97ad158c9f4f       5   \n",
              "1  112ee86a20d7e4308c0a054f8b03128cd       5   \n",
              "2  1253729b67f301b75a0f26e85f6d6fb31       5   \n",
              "3  1ae0005e94dce0dc5c18d6ae2b4a329ab       4   \n",
              "4  1d8357d2abdcc656635c5459c1feec761       3   \n",
              "\n",
              "                                         review_text  \\\n",
              "0  thought this very good historical fantasy set ...   \n",
              "1  Ive had this book recommended me more than onc...   \n",
              "2  Seriously You go throw twist into story This w...   \n",
              "3  Gosh Im still not recovering from effing CLIFF...   \n",
              "4  stars rounded down cant help it just dont conn...   \n",
              "\n",
              "                       date_added                    date_updated  \\\n",
              "0  Fri Feb 01 16:44:16 -0800 2013  Tue Oct 25 18:49:25 -0700 2016   \n",
              "1  Sun Nov 08 12:10:16 -0800 2015  Sun Nov 08 12:24:59 -0800 2015   \n",
              "2  Wed Oct 10 02:07:19 -0700 2012  Sat Apr 27 00:40:19 -0700 2013   \n",
              "3  Thu Dec 05 00:45:29 -0800 2013  Thu Dec 05 00:50:17 -0800 2013   \n",
              "4  Wed Mar 15 18:08:14 -0700 2017  Wed Jul 05 12:55:32 -0700 2017   \n",
              "\n",
              "                          read_at                      started_at  n_votes  \\\n",
              "0  Sat May 04 00:00:00 -0700 2013  Thu Apr 25 00:00:00 -0700 2013        5   \n",
              "1  Tue May 05 00:00:00 -0700 2015  Sun May 03 00:00:00 -0700 2015        0   \n",
              "2  Sat Apr 27 00:40:19 -0700 2013  Thu Apr 25 00:00:00 -0700 2013        0   \n",
              "3  Thu Dec 05 00:50:17 -0800 2013  Wed Dec 04 00:00:00 -0800 2013        5   \n",
              "4  Wed Apr 12 12:17:07 -0700 2017  Tue Apr 11 00:00:00 -0700 2017        0   \n",
              "\n",
              "   n_comments  \n",
              "0           6  \n",
              "1           0  \n",
              "2           0  \n",
              "3           0  \n",
              "4           0  "
            ],
            "text/html": [
              "\n",
              "  <div id=\"df-a1abe007-e8ac-497a-be15-df897f7b6a84\">\n",
              "    <div class=\"colab-df-container\">\n",
              "      <div>\n",
              "<style scoped>\n",
              "    .dataframe tbody tr th:only-of-type {\n",
              "        vertical-align: middle;\n",
              "    }\n",
              "\n",
              "    .dataframe tbody tr th {\n",
              "        vertical-align: top;\n",
              "    }\n",
              "\n",
              "    .dataframe thead th {\n",
              "        text-align: right;\n",
              "    }\n",
              "</style>\n",
              "<table border=\"1\" class=\"dataframe\">\n",
              "  <thead>\n",
              "    <tr style=\"text-align: right;\">\n",
              "      <th></th>\n",
              "      <th>user_id</th>\n",
              "      <th>book_id</th>\n",
              "      <th>review_id</th>\n",
              "      <th>rating</th>\n",
              "      <th>review_text</th>\n",
              "      <th>date_added</th>\n",
              "      <th>date_updated</th>\n",
              "      <th>read_at</th>\n",
              "      <th>started_at</th>\n",
              "      <th>n_votes</th>\n",
              "      <th>n_comments</th>\n",
              "    </tr>\n",
              "  </thead>\n",
              "  <tbody>\n",
              "    <tr>\n",
              "      <th>0</th>\n",
              "      <td>1da3dcc13cf360b9ecb06251e86237535</td>\n",
              "      <td>182091851</td>\n",
              "      <td>1c949b5dedf860514ec8b97ad158c9f4f</td>\n",
              "      <td>5</td>\n",
              "      <td>thought this very good historical fantasy set ...</td>\n",
              "      <td>Fri Feb 01 16:44:16 -0800 2013</td>\n",
              "      <td>Tue Oct 25 18:49:25 -0700 2016</td>\n",
              "      <td>Sat May 04 00:00:00 -0700 2013</td>\n",
              "      <td>Thu Apr 25 00:00:00 -0700 2013</td>\n",
              "      <td>5</td>\n",
              "      <td>6</td>\n",
              "    </tr>\n",
              "    <tr>\n",
              "      <th>1</th>\n",
              "      <td>1ae436441b6153473ef907aed1006a159</td>\n",
              "      <td>1451461</td>\n",
              "      <td>112ee86a20d7e4308c0a054f8b03128cd</td>\n",
              "      <td>5</td>\n",
              "      <td>Ive had this book recommended me more than onc...</td>\n",
              "      <td>Sun Nov 08 12:10:16 -0800 2015</td>\n",
              "      <td>Sun Nov 08 12:24:59 -0800 2015</td>\n",
              "      <td>Tue May 05 00:00:00 -0700 2015</td>\n",
              "      <td>Sun May 03 00:00:00 -0700 2015</td>\n",
              "      <td>0</td>\n",
              "      <td>0</td>\n",
              "    </tr>\n",
              "    <tr>\n",
              "      <th>2</th>\n",
              "      <td>1aa5e9d859b0c0737f4b99a07edf19c88</td>\n",
              "      <td>13483572</td>\n",
              "      <td>1253729b67f301b75a0f26e85f6d6fb31</td>\n",
              "      <td>5</td>\n",
              "      <td>Seriously You go throw twist into story This w...</td>\n",
              "      <td>Wed Oct 10 02:07:19 -0700 2012</td>\n",
              "      <td>Sat Apr 27 00:40:19 -0700 2013</td>\n",
              "      <td>Sat Apr 27 00:40:19 -0700 2013</td>\n",
              "      <td>Thu Apr 25 00:00:00 -0700 2013</td>\n",
              "      <td>0</td>\n",
              "      <td>0</td>\n",
              "    </tr>\n",
              "    <tr>\n",
              "      <th>3</th>\n",
              "      <td>1940c22aba67c3d49ccd37891c52c9f51</td>\n",
              "      <td>131585171</td>\n",
              "      <td>1ae0005e94dce0dc5c18d6ae2b4a329ab</td>\n",
              "      <td>4</td>\n",
              "      <td>Gosh Im still not recovering from effing CLIFF...</td>\n",
              "      <td>Thu Dec 05 00:45:29 -0800 2013</td>\n",
              "      <td>Thu Dec 05 00:50:17 -0800 2013</td>\n",
              "      <td>Thu Dec 05 00:50:17 -0800 2013</td>\n",
              "      <td>Wed Dec 04 00:00:00 -0800 2013</td>\n",
              "      <td>5</td>\n",
              "      <td>0</td>\n",
              "    </tr>\n",
              "    <tr>\n",
              "      <th>4</th>\n",
              "      <td>15e03534fccd0e7e1849d712ab9e44342</td>\n",
              "      <td>195643271</td>\n",
              "      <td>1d8357d2abdcc656635c5459c1feec761</td>\n",
              "      <td>3</td>\n",
              "      <td>stars rounded down cant help it just dont conn...</td>\n",
              "      <td>Wed Mar 15 18:08:14 -0700 2017</td>\n",
              "      <td>Wed Jul 05 12:55:32 -0700 2017</td>\n",
              "      <td>Wed Apr 12 12:17:07 -0700 2017</td>\n",
              "      <td>Tue Apr 11 00:00:00 -0700 2017</td>\n",
              "      <td>0</td>\n",
              "      <td>0</td>\n",
              "    </tr>\n",
              "  </tbody>\n",
              "</table>\n",
              "</div>\n",
              "      <button class=\"colab-df-convert\" onclick=\"convertToInteractive('df-a1abe007-e8ac-497a-be15-df897f7b6a84')\"\n",
              "              title=\"Convert this dataframe to an interactive table.\"\n",
              "              style=\"display:none;\">\n",
              "        \n",
              "  <svg xmlns=\"http://www.w3.org/2000/svg\" height=\"24px\"viewBox=\"0 0 24 24\"\n",
              "       width=\"24px\">\n",
              "    <path d=\"M0 0h24v24H0V0z\" fill=\"none\"/>\n",
              "    <path d=\"M18.56 5.44l.94 2.06.94-2.06 2.06-.94-2.06-.94-.94-2.06-.94 2.06-2.06.94zm-11 1L8.5 8.5l.94-2.06 2.06-.94-2.06-.94L8.5 2.5l-.94 2.06-2.06.94zm10 10l.94 2.06.94-2.06 2.06-.94-2.06-.94-.94-2.06-.94 2.06-2.06.94z\"/><path d=\"M17.41 7.96l-1.37-1.37c-.4-.4-.92-.59-1.43-.59-.52 0-1.04.2-1.43.59L10.3 9.45l-7.72 7.72c-.78.78-.78 2.05 0 2.83L4 21.41c.39.39.9.59 1.41.59.51 0 1.02-.2 1.41-.59l7.78-7.78 2.81-2.81c.8-.78.8-2.07 0-2.86zM5.41 20L4 18.59l7.72-7.72 1.47 1.35L5.41 20z\"/>\n",
              "  </svg>\n",
              "      </button>\n",
              "      \n",
              "  <style>\n",
              "    .colab-df-container {\n",
              "      display:flex;\n",
              "      flex-wrap:wrap;\n",
              "      gap: 12px;\n",
              "    }\n",
              "\n",
              "    .colab-df-convert {\n",
              "      background-color: #E8F0FE;\n",
              "      border: none;\n",
              "      border-radius: 50%;\n",
              "      cursor: pointer;\n",
              "      display: none;\n",
              "      fill: #1967D2;\n",
              "      height: 32px;\n",
              "      padding: 0 0 0 0;\n",
              "      width: 32px;\n",
              "    }\n",
              "\n",
              "    .colab-df-convert:hover {\n",
              "      background-color: #E2EBFA;\n",
              "      box-shadow: 0px 1px 2px rgba(60, 64, 67, 0.3), 0px 1px 3px 1px rgba(60, 64, 67, 0.15);\n",
              "      fill: #174EA6;\n",
              "    }\n",
              "\n",
              "    [theme=dark] .colab-df-convert {\n",
              "      background-color: #3B4455;\n",
              "      fill: #D2E3FC;\n",
              "    }\n",
              "\n",
              "    [theme=dark] .colab-df-convert:hover {\n",
              "      background-color: #434B5C;\n",
              "      box-shadow: 0px 1px 3px 1px rgba(0, 0, 0, 0.15);\n",
              "      filter: drop-shadow(0px 1px 2px rgba(0, 0, 0, 0.3));\n",
              "      fill: #FFFFFF;\n",
              "    }\n",
              "  </style>\n",
              "\n",
              "      <script>\n",
              "        const buttonEl =\n",
              "          document.querySelector('#df-a1abe007-e8ac-497a-be15-df897f7b6a84 button.colab-df-convert');\n",
              "        buttonEl.style.display =\n",
              "          google.colab.kernel.accessAllowed ? 'block' : 'none';\n",
              "\n",
              "        async function convertToInteractive(key) {\n",
              "          const element = document.querySelector('#df-a1abe007-e8ac-497a-be15-df897f7b6a84');\n",
              "          const dataTable =\n",
              "            await google.colab.kernel.invokeFunction('convertToInteractive',\n",
              "                                                     [key], {});\n",
              "          if (!dataTable) return;\n",
              "\n",
              "          const docLinkHtml = 'Like what you see? Visit the ' +\n",
              "            '<a target=\"_blank\" href=https://colab.research.google.com/notebooks/data_table.ipynb>data table notebook</a>'\n",
              "            + ' to learn more about interactive tables.';\n",
              "          element.innerHTML = '';\n",
              "          dataTable['output_type'] = 'display_data';\n",
              "          await google.colab.output.renderOutput(dataTable, element);\n",
              "          const docLink = document.createElement('div');\n",
              "          docLink.innerHTML = docLinkHtml;\n",
              "          element.appendChild(docLink);\n",
              "        }\n",
              "      </script>\n",
              "    </div>\n",
              "  </div>\n",
              "  "
            ]
          },
          "metadata": {},
          "execution_count": 20
        }
      ],
      "source": [
        "#Removing Rare words\n",
        "\n",
        "n_rare_words = 10\n",
        "RAREWORDS = set([w for (w, wc) in cnt.most_common()[:-n_rare_words-1:-1]])\n",
        "def remove_rarewords(text):\n",
        "    \"\"\"custom function to remove the rare words\"\"\"\n",
        "    return \" \".join([word for word in str(text).split() if word not in RAREWORDS])\n",
        "\n",
        "train[\"review_text\"] = train[\"review_text\"].apply(lambda text: remove_rarewords(text))\n",
        "train.head()"
      ]
    },
    {
      "cell_type": "markdown",
      "metadata": {
        "id": "wddyFuWm49MJ"
      },
      "source": [
        "For the last step there can be stemming or lemmatization.\n",
        "I choose the Stemming in this case"
      ]
    },
    {
      "cell_type": "code",
      "execution_count": 21,
      "metadata": {
        "id": "LtoTVIoT4ZR5",
        "colab": {
          "base_uri": "https://localhost:8080/",
          "height": 617
        },
        "outputId": "e6428924-c870-4613-eedb-d368e7dbf261"
      },
      "outputs": [
        {
          "output_type": "execute_result",
          "data": {
            "text/plain": [
              "                             user_id    book_id  \\\n",
              "0  1da3dcc13cf360b9ecb06251e86237535  182091851   \n",
              "1  1ae436441b6153473ef907aed1006a159    1451461   \n",
              "2  1aa5e9d859b0c0737f4b99a07edf19c88   13483572   \n",
              "3  1940c22aba67c3d49ccd37891c52c9f51  131585171   \n",
              "4  15e03534fccd0e7e1849d712ab9e44342  195643271   \n",
              "\n",
              "                           review_id  rating  \\\n",
              "0  1c949b5dedf860514ec8b97ad158c9f4f       5   \n",
              "1  112ee86a20d7e4308c0a054f8b03128cd       5   \n",
              "2  1253729b67f301b75a0f26e85f6d6fb31       5   \n",
              "3  1ae0005e94dce0dc5c18d6ae2b4a329ab       4   \n",
              "4  1d8357d2abdcc656635c5459c1feec761       3   \n",
              "\n",
              "                                         review_text  \\\n",
              "0  thought thi veri good histor fantasi set new y...   \n",
              "1  ive had thi book recommend me more than onc so...   \n",
              "2  serious you go throw twist into stori thi what...   \n",
              "3  gosh im still not recov from ef cliffhang thi ...   \n",
              "4  star round down cant help it just dont connect...   \n",
              "\n",
              "                       date_added                    date_updated  \\\n",
              "0  Fri Feb 01 16:44:16 -0800 2013  Tue Oct 25 18:49:25 -0700 2016   \n",
              "1  Sun Nov 08 12:10:16 -0800 2015  Sun Nov 08 12:24:59 -0800 2015   \n",
              "2  Wed Oct 10 02:07:19 -0700 2012  Sat Apr 27 00:40:19 -0700 2013   \n",
              "3  Thu Dec 05 00:45:29 -0800 2013  Thu Dec 05 00:50:17 -0800 2013   \n",
              "4  Wed Mar 15 18:08:14 -0700 2017  Wed Jul 05 12:55:32 -0700 2017   \n",
              "\n",
              "                          read_at                      started_at  n_votes  \\\n",
              "0  Sat May 04 00:00:00 -0700 2013  Thu Apr 25 00:00:00 -0700 2013        5   \n",
              "1  Tue May 05 00:00:00 -0700 2015  Sun May 03 00:00:00 -0700 2015        0   \n",
              "2  Sat Apr 27 00:40:19 -0700 2013  Thu Apr 25 00:00:00 -0700 2013        0   \n",
              "3  Thu Dec 05 00:50:17 -0800 2013  Wed Dec 04 00:00:00 -0800 2013        5   \n",
              "4  Wed Apr 12 12:17:07 -0700 2017  Tue Apr 11 00:00:00 -0700 2017        0   \n",
              "\n",
              "   n_comments  \n",
              "0           6  \n",
              "1           0  \n",
              "2           0  \n",
              "3           0  \n",
              "4           0  "
            ],
            "text/html": [
              "\n",
              "  <div id=\"df-5743794c-171e-4a79-adfe-1390efc6d14d\">\n",
              "    <div class=\"colab-df-container\">\n",
              "      <div>\n",
              "<style scoped>\n",
              "    .dataframe tbody tr th:only-of-type {\n",
              "        vertical-align: middle;\n",
              "    }\n",
              "\n",
              "    .dataframe tbody tr th {\n",
              "        vertical-align: top;\n",
              "    }\n",
              "\n",
              "    .dataframe thead th {\n",
              "        text-align: right;\n",
              "    }\n",
              "</style>\n",
              "<table border=\"1\" class=\"dataframe\">\n",
              "  <thead>\n",
              "    <tr style=\"text-align: right;\">\n",
              "      <th></th>\n",
              "      <th>user_id</th>\n",
              "      <th>book_id</th>\n",
              "      <th>review_id</th>\n",
              "      <th>rating</th>\n",
              "      <th>review_text</th>\n",
              "      <th>date_added</th>\n",
              "      <th>date_updated</th>\n",
              "      <th>read_at</th>\n",
              "      <th>started_at</th>\n",
              "      <th>n_votes</th>\n",
              "      <th>n_comments</th>\n",
              "    </tr>\n",
              "  </thead>\n",
              "  <tbody>\n",
              "    <tr>\n",
              "      <th>0</th>\n",
              "      <td>1da3dcc13cf360b9ecb06251e86237535</td>\n",
              "      <td>182091851</td>\n",
              "      <td>1c949b5dedf860514ec8b97ad158c9f4f</td>\n",
              "      <td>5</td>\n",
              "      <td>thought thi veri good histor fantasi set new y...</td>\n",
              "      <td>Fri Feb 01 16:44:16 -0800 2013</td>\n",
              "      <td>Tue Oct 25 18:49:25 -0700 2016</td>\n",
              "      <td>Sat May 04 00:00:00 -0700 2013</td>\n",
              "      <td>Thu Apr 25 00:00:00 -0700 2013</td>\n",
              "      <td>5</td>\n",
              "      <td>6</td>\n",
              "    </tr>\n",
              "    <tr>\n",
              "      <th>1</th>\n",
              "      <td>1ae436441b6153473ef907aed1006a159</td>\n",
              "      <td>1451461</td>\n",
              "      <td>112ee86a20d7e4308c0a054f8b03128cd</td>\n",
              "      <td>5</td>\n",
              "      <td>ive had thi book recommend me more than onc so...</td>\n",
              "      <td>Sun Nov 08 12:10:16 -0800 2015</td>\n",
              "      <td>Sun Nov 08 12:24:59 -0800 2015</td>\n",
              "      <td>Tue May 05 00:00:00 -0700 2015</td>\n",
              "      <td>Sun May 03 00:00:00 -0700 2015</td>\n",
              "      <td>0</td>\n",
              "      <td>0</td>\n",
              "    </tr>\n",
              "    <tr>\n",
              "      <th>2</th>\n",
              "      <td>1aa5e9d859b0c0737f4b99a07edf19c88</td>\n",
              "      <td>13483572</td>\n",
              "      <td>1253729b67f301b75a0f26e85f6d6fb31</td>\n",
              "      <td>5</td>\n",
              "      <td>serious you go throw twist into stori thi what...</td>\n",
              "      <td>Wed Oct 10 02:07:19 -0700 2012</td>\n",
              "      <td>Sat Apr 27 00:40:19 -0700 2013</td>\n",
              "      <td>Sat Apr 27 00:40:19 -0700 2013</td>\n",
              "      <td>Thu Apr 25 00:00:00 -0700 2013</td>\n",
              "      <td>0</td>\n",
              "      <td>0</td>\n",
              "    </tr>\n",
              "    <tr>\n",
              "      <th>3</th>\n",
              "      <td>1940c22aba67c3d49ccd37891c52c9f51</td>\n",
              "      <td>131585171</td>\n",
              "      <td>1ae0005e94dce0dc5c18d6ae2b4a329ab</td>\n",
              "      <td>4</td>\n",
              "      <td>gosh im still not recov from ef cliffhang thi ...</td>\n",
              "      <td>Thu Dec 05 00:45:29 -0800 2013</td>\n",
              "      <td>Thu Dec 05 00:50:17 -0800 2013</td>\n",
              "      <td>Thu Dec 05 00:50:17 -0800 2013</td>\n",
              "      <td>Wed Dec 04 00:00:00 -0800 2013</td>\n",
              "      <td>5</td>\n",
              "      <td>0</td>\n",
              "    </tr>\n",
              "    <tr>\n",
              "      <th>4</th>\n",
              "      <td>15e03534fccd0e7e1849d712ab9e44342</td>\n",
              "      <td>195643271</td>\n",
              "      <td>1d8357d2abdcc656635c5459c1feec761</td>\n",
              "      <td>3</td>\n",
              "      <td>star round down cant help it just dont connect...</td>\n",
              "      <td>Wed Mar 15 18:08:14 -0700 2017</td>\n",
              "      <td>Wed Jul 05 12:55:32 -0700 2017</td>\n",
              "      <td>Wed Apr 12 12:17:07 -0700 2017</td>\n",
              "      <td>Tue Apr 11 00:00:00 -0700 2017</td>\n",
              "      <td>0</td>\n",
              "      <td>0</td>\n",
              "    </tr>\n",
              "  </tbody>\n",
              "</table>\n",
              "</div>\n",
              "      <button class=\"colab-df-convert\" onclick=\"convertToInteractive('df-5743794c-171e-4a79-adfe-1390efc6d14d')\"\n",
              "              title=\"Convert this dataframe to an interactive table.\"\n",
              "              style=\"display:none;\">\n",
              "        \n",
              "  <svg xmlns=\"http://www.w3.org/2000/svg\" height=\"24px\"viewBox=\"0 0 24 24\"\n",
              "       width=\"24px\">\n",
              "    <path d=\"M0 0h24v24H0V0z\" fill=\"none\"/>\n",
              "    <path d=\"M18.56 5.44l.94 2.06.94-2.06 2.06-.94-2.06-.94-.94-2.06-.94 2.06-2.06.94zm-11 1L8.5 8.5l.94-2.06 2.06-.94-2.06-.94L8.5 2.5l-.94 2.06-2.06.94zm10 10l.94 2.06.94-2.06 2.06-.94-2.06-.94-.94-2.06-.94 2.06-2.06.94z\"/><path d=\"M17.41 7.96l-1.37-1.37c-.4-.4-.92-.59-1.43-.59-.52 0-1.04.2-1.43.59L10.3 9.45l-7.72 7.72c-.78.78-.78 2.05 0 2.83L4 21.41c.39.39.9.59 1.41.59.51 0 1.02-.2 1.41-.59l7.78-7.78 2.81-2.81c.8-.78.8-2.07 0-2.86zM5.41 20L4 18.59l7.72-7.72 1.47 1.35L5.41 20z\"/>\n",
              "  </svg>\n",
              "      </button>\n",
              "      \n",
              "  <style>\n",
              "    .colab-df-container {\n",
              "      display:flex;\n",
              "      flex-wrap:wrap;\n",
              "      gap: 12px;\n",
              "    }\n",
              "\n",
              "    .colab-df-convert {\n",
              "      background-color: #E8F0FE;\n",
              "      border: none;\n",
              "      border-radius: 50%;\n",
              "      cursor: pointer;\n",
              "      display: none;\n",
              "      fill: #1967D2;\n",
              "      height: 32px;\n",
              "      padding: 0 0 0 0;\n",
              "      width: 32px;\n",
              "    }\n",
              "\n",
              "    .colab-df-convert:hover {\n",
              "      background-color: #E2EBFA;\n",
              "      box-shadow: 0px 1px 2px rgba(60, 64, 67, 0.3), 0px 1px 3px 1px rgba(60, 64, 67, 0.15);\n",
              "      fill: #174EA6;\n",
              "    }\n",
              "\n",
              "    [theme=dark] .colab-df-convert {\n",
              "      background-color: #3B4455;\n",
              "      fill: #D2E3FC;\n",
              "    }\n",
              "\n",
              "    [theme=dark] .colab-df-convert:hover {\n",
              "      background-color: #434B5C;\n",
              "      box-shadow: 0px 1px 3px 1px rgba(0, 0, 0, 0.15);\n",
              "      filter: drop-shadow(0px 1px 2px rgba(0, 0, 0, 0.3));\n",
              "      fill: #FFFFFF;\n",
              "    }\n",
              "  </style>\n",
              "\n",
              "      <script>\n",
              "        const buttonEl =\n",
              "          document.querySelector('#df-5743794c-171e-4a79-adfe-1390efc6d14d button.colab-df-convert');\n",
              "        buttonEl.style.display =\n",
              "          google.colab.kernel.accessAllowed ? 'block' : 'none';\n",
              "\n",
              "        async function convertToInteractive(key) {\n",
              "          const element = document.querySelector('#df-5743794c-171e-4a79-adfe-1390efc6d14d');\n",
              "          const dataTable =\n",
              "            await google.colab.kernel.invokeFunction('convertToInteractive',\n",
              "                                                     [key], {});\n",
              "          if (!dataTable) return;\n",
              "\n",
              "          const docLinkHtml = 'Like what you see? Visit the ' +\n",
              "            '<a target=\"_blank\" href=https://colab.research.google.com/notebooks/data_table.ipynb>data table notebook</a>'\n",
              "            + ' to learn more about interactive tables.';\n",
              "          element.innerHTML = '';\n",
              "          dataTable['output_type'] = 'display_data';\n",
              "          await google.colab.output.renderOutput(dataTable, element);\n",
              "          const docLink = document.createElement('div');\n",
              "          docLink.innerHTML = docLinkHtml;\n",
              "          element.appendChild(docLink);\n",
              "        }\n",
              "      </script>\n",
              "    </div>\n",
              "  </div>\n",
              "  "
            ]
          },
          "metadata": {},
          "execution_count": 21
        }
      ],
      "source": [
        "from nltk.stem.porter import PorterStemmer\n",
        "\n",
        "stemmer = PorterStemmer()\n",
        "def stem_words(text):\n",
        "    return \" \".join([stemmer.stem(word) for word in text.split()])\n",
        "\n",
        "train[\"review_text\"] = train[\"review_text\"].apply(lambda text: stem_words(text))\n",
        "train.head()"
      ]
    },
    {
      "cell_type": "markdown",
      "metadata": {
        "id": "ci5kMFol5o3T"
      },
      "source": [
        "Now stemming is also done, so it can be possible to perform Vectorization and then,there will be an attempt to build a baseline machine learning model"
      ]
    },
    {
      "cell_type": "code",
      "execution_count": 22,
      "metadata": {
        "id": "UyP9M7Ot5NeC"
      },
      "outputs": [],
      "source": [
        "from sklearn.model_selection import train_test_split"
      ]
    },
    {
      "cell_type": "code",
      "execution_count": 23,
      "metadata": {
        "id": "I_Yym8yq5sa5"
      },
      "outputs": [],
      "source": [
        "# Create a CountVectorizer object\n",
        "#vectorizer = CountVectorizer()\n",
        "\n",
        "# Split the data into training and testing and Valid sets\n",
        "#X_train, X_val, y_train, y_val = train_test_split(train['review_text'], train['rating'], test_size=0.2, random_state=42)\n",
        "#X_val, X_test, y_val, y_test = train_test_split(X_val, y_val, test_size=0.5, random_state=42)\n",
        "\n",
        "# Create a CountVectorizer object with stopwords\n",
        "#vectorizer = CountVectorizer(stop_words=stop_words)\n",
        "#vectorizer = CountVectorizer(max_df = 0.5, max_features=50000)\n",
        "\n",
        "# Fit the vectorizer on the training data\n",
        "#vectorizer.fit(X_train)\n",
        "\n",
        "# Transform the training and testing data into bag-of-words matrices\n",
        "# X_train = vectorizer.transform(X_train)\n",
        "#X_test = vectorizer.transform(X_test)"
      ]
    },
    {
      "cell_type": "markdown",
      "metadata": {
        "id": "CKYlpE8b-VNC"
      },
      "source": [
        "**Preparation for Base ML models and DNN**"
      ]
    },
    {
      "cell_type": "code",
      "execution_count": 24,
      "metadata": {
        "id": "lyAtmJlx5vqz"
      },
      "outputs": [],
      "source": [
        "X = train['review_text']\n",
        "y = train['rating']\n",
        "# Create a CountVectorizer object\n",
        "vectorizer = CountVectorizer()\n",
        "\n",
        "# Split the data into training and testing and Valid sets\n",
        "X_train, X_val, y_train, y_val = train_test_split(X, y, test_size=0.2, random_state=42)\n",
        "X_val, X_test, y_val, y_test = train_test_split(X_val, y_val, test_size=0.5, random_state=42)\n",
        "\n",
        "# Create a CountVectorizer object with stopwords\n",
        "#vectorizer = CountVectorizer(stop_words=stop_words)\n",
        "vectorizer = CountVectorizer(max_df = 0.5, max_features=50000)\n",
        "# Fit the vectorizer on the training data\n",
        "vectorizer.fit(X_train)\n",
        "\n",
        "# Transform the training and testing data into bag-of-words matrices\n",
        "X_train = vectorizer.transform(X_train)\n",
        "X_test = vectorizer.transform(X_test)\n",
        "X_val = vectorizer.transform(X_val)"
      ]
    },
    {
      "cell_type": "code",
      "execution_count": 25,
      "metadata": {
        "id": "pzeNmVX970yy"
      },
      "outputs": [],
      "source": [
        "# Split the data into training and testing sets\n",
        "#X_train, X_test, y_train, y_test = train_test_split(train['review_text'], train['rating'], test_size=0.2, random_state=42)\n",
        "\n",
        "# Create a CountVectorizer object\n",
        "#vectorizer = CountVectorizer(stop_words='english')\n",
        "\n",
        "# Fit the vectorizer on the text data\n",
        "#vectorizer.fit(X_train)\n",
        "\n",
        "# Transform the text data into a bag-of-words matrix\n",
        "#X_train = vectorizer.transform(X_train)\n",
        "#X_test = vectorizer.transform(X_test)"
      ]
    },
    {
      "cell_type": "code",
      "execution_count": 26,
      "metadata": {
        "id": "Owe-oN5971qe",
        "colab": {
          "base_uri": "https://localhost:8080/"
        },
        "outputId": "ddcc8eb6-a7fc-4819-eeec-128dd1ab9145"
      },
      "outputs": [
        {
          "output_type": "stream",
          "name": "stdout",
          "text": [
            "X_train  (379689, 50000)\n",
            "y_train  (379689,)\n",
            "X_test  (47462, 50000)\n",
            "y_test  (47462,)\n",
            "X_val  (47461, 50000)\n",
            "y_val  (47461,)\n"
          ]
        }
      ],
      "source": [
        "print(\"X_train \",X_train.shape)\n",
        "print(\"y_train \",y_train.shape)\n",
        "print(\"X_test \",X_test.shape )\n",
        "print(\"y_test \",y_test.shape )\n",
        "print(\"X_val \",X_val.shape )\n",
        "print(\"y_val \",y_val.shape )"
      ]
    },
    {
      "cell_type": "code",
      "execution_count": 27,
      "metadata": {
        "id": "4CQi9h3PrxEW",
        "colab": {
          "base_uri": "https://localhost:8080/"
        },
        "outputId": "6254a06b-dbe5-4b44-d03c-63956a895992"
      },
      "outputs": [
        {
          "output_type": "stream",
          "name": "stdout",
          "text": [
            "  (0, 1788)\t1\n",
            "  (0, 2817)\t1\n",
            "  (0, 3716)\t1\n",
            "  (0, 3759)\t1\n",
            "  (0, 4055)\t1\n",
            "  (0, 4092)\t1\n",
            "  (0, 5507)\t1\n",
            "  (0, 6212)\t1\n",
            "  (0, 8702)\t1\n",
            "  (0, 10069)\t1\n",
            "  (0, 10997)\t1\n",
            "  (0, 11517)\t1\n",
            "  (0, 11528)\t1\n",
            "  (0, 12273)\t1\n",
            "  (0, 13184)\t1\n",
            "  (0, 15893)\t2\n",
            "  (0, 17269)\t1\n",
            "  (0, 17992)\t2\n",
            "  (0, 18370)\t1\n",
            "  (0, 18696)\t1\n",
            "  (0, 19206)\t2\n",
            "  (0, 19347)\t2\n",
            "  (0, 20553)\t1\n",
            "  (0, 21383)\t1\n",
            "  (0, 21404)\t1\n",
            "  (0, 23549)\t1\n",
            "  (0, 25392)\t1\n",
            "  (0, 25457)\t3\n",
            "  (0, 28913)\t1\n",
            "  (0, 30718)\t1\n",
            "  (0, 32365)\t1\n",
            "  (0, 35224)\t1\n",
            "  (0, 37481)\t1\n",
            "  (0, 37945)\t1\n",
            "  (0, 38401)\t1\n",
            "  (0, 38448)\t1\n",
            "  (0, 38539)\t1\n",
            "  (0, 38751)\t2\n",
            "  (0, 42079)\t1\n",
            "  (0, 43638)\t1\n",
            "  (0, 44194)\t1\n",
            "  (0, 44647)\t1\n",
            "  (0, 45402)\t1\n",
            "  (0, 47815)\t1\n",
            "  (0, 48105)\t1\n",
            "  (0, 48273)\t1\n",
            "  (0, 48294)\t1\n",
            "  (0, 48568)\t2\n"
          ]
        }
      ],
      "source": [
        "print(X_train[0])"
      ]
    },
    {
      "cell_type": "code",
      "execution_count": 28,
      "metadata": {
        "id": "MNA5jxSM74TM"
      },
      "outputs": [],
      "source": [
        "%matplotlib inline\n",
        "from matplotlib import style\n",
        "import warnings\n",
        "warnings.filterwarnings('ignore')\n",
        "from sklearn.metrics import confusion_matrix, classification_report, accuracy_score, ConfusionMatrixDisplay\n",
        "from sklearn.preprocessing import StandardScaler\n",
        "from sklearn.linear_model import LogisticRegression\n",
        "from sklearn.tree import DecisionTreeClassifier\n",
        "from sklearn.ensemble import RandomForestClassifier\n",
        "from sklearn.preprocessing import StandardScaler"
      ]
    },
    {
      "cell_type": "code",
      "execution_count": 29,
      "metadata": {
        "id": "6cABMRSD77kC",
        "colab": {
          "base_uri": "https://localhost:8080/"
        },
        "outputId": "ac8d05fb-da84-4f4a-87b3-18bcda215265"
      },
      "outputs": [
        {
          "output_type": "stream",
          "name": "stdout",
          "text": [
            "test accuracy is: 53.36%\n"
          ]
        }
      ],
      "source": [
        "logreg = LogisticRegression()\n",
        "logreg.fit(X_train, y_train)\n",
        "logreg_pred = logreg.predict(X_test)\n",
        "logreg_acc = accuracy_score(logreg_pred, y_test)\n",
        "print(\"test accuracy is: {:.2f}%\".format(logreg_acc*100))"
      ]
    },
    {
      "cell_type": "markdown",
      "metadata": {
        "id": "hp62IYQSJVik"
      },
      "source": [
        "# **Neural Network**"
      ]
    },
    {
      "cell_type": "code",
      "execution_count": 30,
      "metadata": {
        "id": "NAjTckIXJt7e",
        "colab": {
          "base_uri": "https://localhost:8080/"
        },
        "outputId": "126330cd-683e-4c74-e080-b005b4566c13"
      },
      "outputs": [
        {
          "output_type": "stream",
          "name": "stdout",
          "text": [
            "Colab only includes TensorFlow 2.x; %tensorflow_version has no effect.\n",
            "2.12.0\n",
            "2.12.0\n",
            "[name: \"/device:CPU:0\"\n",
            "device_type: \"CPU\"\n",
            "memory_limit: 268435456\n",
            "locality {\n",
            "}\n",
            "incarnation: 12196717438726443507\n",
            "xla_global_id: -1\n",
            "]\n",
            "The GPU device you are using is: \n"
          ]
        }
      ],
      "source": [
        "from sklearn.linear_model import Perceptron\n",
        "import tensorflow as tf\n",
        "%tensorflow_version 2.x\n",
        "from tensorflow import keras\n",
        "print(tf.__version__)\n",
        "print(keras.__version__)\n",
        "from  keras.utils import plot_model\n",
        "\n",
        "from tensorflow.python.client import device_lib\n",
        "print(device_lib.list_local_devices())\n",
        "\n",
        "print(\"The GPU device you are using is:\", tf.test.gpu_device_name())"
      ]
    },
    {
      "cell_type": "code",
      "execution_count": 48,
      "metadata": {
        "id": "EraBYN82BNTm"
      },
      "outputs": [],
      "source": [
        "from keras import models\n",
        "from keras.layers import Dense\n",
        "from tensorflow.keras.preprocessing.sequence import pad_sequences # Keras preprocessing tool for padding\n",
        "from tensorflow.keras.models import Sequential # Connecting the Layer\n",
        "from tensorflow.keras.optimizers import Adam\n",
        "from tensorflow.keras.layers import Dense,Flatten,Embedding # Set Layer,1-dimensionize, word2vect"
      ]
    },
    {
      "cell_type": "code",
      "execution_count": null,
      "metadata": {
        "id": "6V9JQ3Q4Jgm0"
      },
      "outputs": [],
      "source": [
        "#base_model = keras.models.Sequential([\n",
        "#    keras.layers.Flatten(input_shape=[28, 28]),\n",
        "#    keras.layers.Dense(300, activation=\"relu\"),\n",
        "#    keras.layers.Dense(10, activation=\"softmax\")\n",
        "#])"
      ]
    },
    {
      "cell_type": "code",
      "source": [],
      "metadata": {
        "id": "HMw_M1lLTd4X"
      },
      "execution_count": null,
      "outputs": []
    },
    {
      "cell_type": "code",
      "source": [
        "#vocab_size = len(vectorizer.vocabulary_)\n",
        "#from keras.models import Sequential\n",
        "#from keras.layers import Embedding, LSTM, Dense\n",
        "\n",
        "#base_model = Sequential()\n",
        "#base_model.add(Embedding(input_dim=vocab_size, output_dim=embedding_dim, input_length=max_seq_length))\n",
        "#base_model.add(LSTM(units=64))\n",
        "#base_model.add(Dense(units=1, activation='sigmoid'))\n",
        "\n",
        "#base_model.compile(loss='categorical_crossentropy', optimizer='adam', metrics=['accuracy'])\n"
      ],
      "metadata": {
        "id": "gun3-_ssSJ7p"
      },
      "execution_count": null,
      "outputs": []
    },
    {
      "cell_type": "code",
      "execution_count": null,
      "metadata": {
        "id": "Z6bJR0bQ3b7s"
      },
      "outputs": [],
      "source": [
        "#model = models.Sequential()\n",
        "#model.add( Dense(16, activation=\"relu\", input_shape = (X_train.shape[1],) ) )\n",
        "#model.add( Dense(16, activation=\"relu\") )\n",
        "#model.add( Dense(1, activation=\"sigmoid\"))"
      ]
    },
    {
      "cell_type": "code",
      "execution_count": null,
      "metadata": {
        "id": "q2o6c--Q3kNx"
      },
      "outputs": [],
      "source": [
        "#model.summary()"
      ]
    },
    {
      "cell_type": "code",
      "source": [
        "base_model = Sequential([\n",
        "          Dense(16, activation='relu', input_shape=(50000,)),\n",
        "          Dense(6, activation='softmax')\n",
        "    ])"
      ],
      "metadata": {
        "id": "0ZpbPSA_LMMM"
      },
      "execution_count": 57,
      "outputs": []
    },
    {
      "cell_type": "code",
      "execution_count": 58,
      "metadata": {
        "colab": {
          "base_uri": "https://localhost:8080/"
        },
        "id": "BUb6zCLGWLiM",
        "outputId": "ca70ee74-a426-48b3-e41d-1064f8e2fffc"
      },
      "outputs": [
        {
          "output_type": "stream",
          "name": "stdout",
          "text": [
            "Model: \"sequential_3\"\n",
            "_________________________________________________________________\n",
            " Layer (type)                Output Shape              Param #   \n",
            "=================================================================\n",
            " dense_6 (Dense)             (None, 16)                800016    \n",
            "                                                                 \n",
            " dense_7 (Dense)             (None, 6)                 102       \n",
            "                                                                 \n",
            "=================================================================\n",
            "Total params: 800,118\n",
            "Trainable params: 800,118\n",
            "Non-trainable params: 0\n",
            "_________________________________________________________________\n"
          ]
        }
      ],
      "source": [
        "base_model.summary()"
      ]
    },
    {
      "cell_type": "code",
      "execution_count": 59,
      "metadata": {
        "colab": {
          "base_uri": "https://localhost:8080/",
          "height": 272
        },
        "id": "g-Ha3udlWOpQ",
        "outputId": "d9e590f0-2464-4ed1-fa7e-f602da262b03"
      },
      "outputs": [
        {
          "output_type": "execute_result",
          "data": {
            "image/png": "[encoded data removed]",
            "text/plain": [
              "<IPython.core.display.Image object>"
            ]
          },
          "metadata": {},
          "execution_count": 59
        }
      ],
      "source": [
        "plot_model(base_model)"
      ]
    },
    {
      "cell_type": "code",
      "execution_count": 60,
      "metadata": {
        "colab": {
          "base_uri": "https://localhost:8080/"
        },
        "id": "5ZMzTrwlWTkG",
        "outputId": "0594bb3c-1c79-4fa4-b749-5fe057cecb4a"
      },
      "outputs": [
        {
          "output_type": "stream",
          "name": "stdout",
          "text": [
            "Model: \"sequential_3\"\n",
            "_________________________________________________________________\n",
            " Layer (type)                Output Shape              Param #   \n",
            "=================================================================\n",
            " dense_6 (Dense)             (None, 16)                800016    \n",
            "                                                                 \n",
            " dense_7 (Dense)             (None, 6)                 102       \n",
            "                                                                 \n",
            "=================================================================\n",
            "Total params: 800,118\n",
            "Trainable params: 800,118\n",
            "Non-trainable params: 0\n",
            "_________________________________________________________________\n"
          ]
        }
      ],
      "source": [
        "base_model.compile(loss = 'categorical_crossentropy',optimizer = Adam(learning_rate=0.001),metrics = ['accuracy'])\n",
        "base_model.summary()"
      ]
    },
    {
      "cell_type": "code",
      "execution_count": 47,
      "metadata": {
        "id": "ucWy2K1A3qXS"
      },
      "outputs": [],
      "source": [
        "#model.compile(loss = 'categorical_crossentropy',optimizer = adam(learning_rate=0.001),metrics = ['accuracy'])\n",
        "#model.summary()"
      ]
    },
    {
      "cell_type": "code",
      "execution_count": null,
      "metadata": {
        "id": "8Bdl-2ChuH9X"
      },
      "outputs": [],
      "source": [
        "from tensorflow.keras.callbacks import EarlyStopping\n",
        "\n",
        "# Creates 'EarlyStopping' callback\n",
        "earlystopping_cb = EarlyStopping(patience=4, restore_best_weights=True)\n"
      ]
    },
    {
      "cell_type": "code",
      "execution_count": null,
      "metadata": {
        "id": "eALBLvS3X9ae"
      },
      "outputs": [],
      "source": [
        "#Fit the model\n",
        "#hist = base_model.fit(X_train, y_train, epochs=5, batch_size=128, validation_data=(X_val, y_val), verbose=1)\n",
        "#hist = model.fit(X_train, y_train, epochs=10, batch_size=32, validation_data=(X_val, y_val))\n",
        "#history = model.fit(X_train,y_train,validation_data=(X_val, y_val),callbacks=[earlystopping_cb],batch_size=64,epochs=5,verbose=1,)"
      ]
    },
    {
      "cell_type": "code",
      "source": [
        "mode.summary"
      ],
      "metadata": {
        "id": "cblKQB-2XtlZ"
      },
      "execution_count": null,
      "outputs": []
    },
    {
      "cell_type": "code",
      "source": [
        "from keras.utils import to_categorical\n",
        "\n",
        "y_train_one_hot = to_categorical(y_train, num_classes = 6)\n",
        "y_val_one_hot = to_categorical(y_val, num_classes = 6)"
      ],
      "metadata": {
        "id": "rXFDnu6NWWiN"
      },
      "execution_count": 54,
      "outputs": []
    },
    {
      "cell_type": "code",
      "source": [
        "y_test_one_hot = to_categorical(y_test, num_classes=6)"
      ],
      "metadata": {
        "id": "vH8TYp9Vrw4-"
      },
      "execution_count": 55,
      "outputs": []
    },
    {
      "cell_type": "code",
      "source": [
        "history = base_model.fit(X_train, y_train_one_hot, validation_data=(X_val, y_val_one_hot), epochs=5, batch_size=64, verbose=0)"
      ],
      "metadata": {
        "id": "EMduHyDBARon"
      },
      "execution_count": 61,
      "outputs": []
    },
    {
      "cell_type": "code",
      "source": [
        "    _, accuracy = base_model.evaluate(X_test, y_test_one_hot, verbose=0)"
      ],
      "metadata": {
        "id": "k1JPo1ujFSLC"
      },
      "execution_count": 62,
      "outputs": []
    },
    {
      "cell_type": "code",
      "source": [
        "performance = []\n",
        "performance.append(accuracy)"
      ],
      "metadata": {
        "id": "we-9_fcpFmCW"
      },
      "execution_count": 64,
      "outputs": []
    },
    {
      "cell_type": "code",
      "source": [
        "performance"
      ],
      "metadata": {
        "colab": {
          "base_uri": "https://localhost:8080/"
        },
        "id": "Bh0ZEWW0FrkO",
        "outputId": "e7770ef7-0eca-4c7a-f178-33807d4a0f69"
      },
      "execution_count": 65,
      "outputs": [
        {
          "output_type": "execute_result",
          "data": {
            "text/plain": [
              "[0.5234924554824829]"
            ]
          },
          "metadata": {},
          "execution_count": 65
        }
      ]
    },
    {
      "cell_type": "code",
      "execution_count": 69,
      "metadata": {
        "id": "xpmVC9QHYy0-"
      },
      "outputs": [],
      "source": [
        "# Define the number of neurons in the hidden layer\n",
        "neurons_list = [2, 4, 6, 8, 16, 20, 25, 32]\n",
        "\n",
        "# Create an empty list to store the model performance\n",
        "performance = []\n",
        "\n",
        "# Loop through the neurons_list and create a model for each number of neurons\n",
        "for neurons in neurons_list:\n",
        "    \n",
        "    # Define the model\n",
        "    model = Sequential([\n",
        "        Dense(neurons, activation='relu', input_shape=(50000,)),\n",
        "        Dense(6, activation='softmax')\n",
        "    ])\n",
        "    \n",
        "    # Compile the model with categorical crossentropy loss and Adam optimizer\n",
        "    model.compile(optimizer=Adam(learning_rate=0.001), loss='categorical_crossentropy', metrics=['accuracy'])\n",
        "    \n",
        "    # Train the model with X_train and y_train\n",
        "    history = model.fit(X_train, y_train_one_hot, validation_data=(X_val, y_val_one_hot), epochs=5, batch_size=64, verbose=0)\n",
        "    \n",
        "    # Evaluate the model on X_test and y_test_one_hot\n",
        "    _, accuracy = model.evaluate(X_test, y_test_one_hot, verbose=0)\n",
        "    \n",
        "    # Append the accuracy to the performance list\n",
        "    performance.append(accuracy)\n",
        "        "
      ]
    },
    {
      "cell_type": "code",
      "source": [
        "neurons = [16]"
      ],
      "metadata": {
        "id": "wxRPP_WaGRCR"
      },
      "execution_count": 66,
      "outputs": []
    },
    {
      "cell_type": "code",
      "source": [
        "# Plot the performance vs number of neurons\n",
        "import matplotlib.pyplot as plt\n",
        "\n",
        "plt.plot(neurons_list, performance, 'o-')\n",
        "plt.xlabel('Number of neurons')\n",
        "plt.ylabel('Accuracy')\n",
        "plt.title('Performance vs Number of Neurons')\n",
        "plt.show()"
      ],
      "metadata": {
        "id": "q7GwLv9oU6Hg",
        "colab": {
          "base_uri": "https://localhost:8080/",
          "height": 472
        },
        "outputId": "5f417e0c-9ecc-4d12-ba4e-20639f885f8d"
      },
      "execution_count": 70,
      "outputs": [
        {
          "output_type": "display_data",
          "data": {
            "text/plain": [
              "<Figure size 640x480 with 1 Axes>"
            ],
            "image/png": "[encoded data removed]"
          },
          "metadata": {}
        }
      ]
    },
    {
      "cell_type": "code",
      "source": [
        "# Plot the performance vs number of neurons\n",
        "import matplotlib.pyplot as plt\n",
        "\n",
        "plt.plot(neurons_list, performance, 'o-')\n",
        "plt.xlabel('Number of neurons')\n",
        "plt.ylabel('Accuracy')\n",
        "plt.title('Performance vs Number of Neurons')\n",
        "plt.show()"
      ],
      "metadata": {
        "id": "FRygp9o9HKik"
      },
      "execution_count": null,
      "outputs": []
    },
    {
      "cell_type": "code",
      "execution_count": 32,
      "metadata": {
        "id": "9ZC81dZEAz4U"
      },
      "outputs": [],
      "source": [
        "#from scipy.sparse import csr_matrix\n",
        "\n",
        "# Create a sparse matrix\n",
        "#data = np.random.randint(0, 2, size=(10, 10))\n",
        "#data[data == 0] = -1\n",
        "#sparse_matrix = csr_matrix(data)\n",
        "\n",
        "# Convert to dense matrix and then to tensor\n",
        "#dense_matrix = sparse_matrix.toarray()\n",
        "#tensor = tf.constant(dense_matrix)\n",
        "\n",
        "# Check the result\n",
        "#print(tensor)"
      ]
    },
    {
      "cell_type": "code",
      "execution_count": null,
      "metadata": {
        "id": "KTlCbCOG4JbP"
      },
      "outputs": [],
      "source": [
        "# Convert sparse matrices to dense matrices\n",
        "#X_train_dense = X_train.toarray()\n",
        "#X_val_dense = X_val.toarray()\n",
        "\n",
        "# Create a tf.data.Dataset from your input data\n",
        "#train_dataset = tf.data.Dataset.from_tensor_slices((X_train_dense, y_train))\n",
        "#val_dataset = tf.data.Dataset.from_tensor_slices((X_val_dense, y_val))\n",
        "\n",
        "# Define batch size and number of epochs\n",
        "#batch_size = 32\n",
        "#epochs = 10\n",
        "\n",
        "# Fit the model using the dataset\n",
        "#history = model.fit(train_dataset.batch(batch_size), epochs=epochs, validation_data=val_dataset.batch(batch_size))\n"
      ]
    },
    {
      "cell_type": "code",
      "source": [
        "y_val_one_hot.shape"
      ],
      "metadata": {
        "id": "EEq_efxIT4zR",
        "colab": {
          "base_uri": "https://localhost:8080/"
        },
        "outputId": "7c8c332f-4b41-4a60-8172-189138c66e95"
      },
      "execution_count": 51,
      "outputs": [
        {
          "output_type": "execute_result",
          "data": {
            "text/plain": [
              "(47461, 6)"
            ]
          },
          "metadata": {},
          "execution_count": 51
        }
      ]
    },
    {
      "cell_type": "code",
      "source": [],
      "metadata": {
        "id": "C5pSHiEDBjjf"
      },
      "execution_count": null,
      "outputs": []
    }
  ],
  "metadata": {
    "colab": {
      "machine_shape": "hm",
      "provenance": []
    },
    "gpuClass": "premium",
    "kernelspec": {
      "display_name": "Python 3",
      "name": "python3"
    },
    "language_info": {
      "name": "python"
    }
  },
  "nbformat": 4,
  "nbformat_minor": 0
}